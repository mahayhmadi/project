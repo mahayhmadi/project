{
 "cells": [
  {
   "cell_type": "code",
   "execution_count": 1,
   "id": "099f0a08-3cfe-42e7-9913-af8b4f501fcb",
   "metadata": {},
   "outputs": [],
   "source": [
    "import numpy as np\n",
    "import matplotlib.pyplot as plt\n",
    "import pandas as pd \n",
    "from sklearn.linear_model import LinearRegression\n",
    "from sklearn.model_selection import train_test_split\n",
    "from sklearn.metrics import mean_absolute_error, mean_squared_error, r2_score"
   ]
  },
  {
   "cell_type": "code",
   "execution_count": 2,
   "id": "565fcc80-b011-4b17-875e-10045d1380e4",
   "metadata": {},
   "outputs": [],
   "source": [
    "import pandas as pd\n",
    "\n",
    "df_hilal = pd.read_csv('hilal_rent_listings.csv')\n",
    "df_dubizzle = pd.read_csv('dubizzle_rent_listings.csv')\n"
   ]
  },
  {
   "cell_type": "code",
   "execution_count": 3,
   "id": "f7c02b6c-9eca-4568-89bf-9e2ecc36efdb",
   "metadata": {},
   "outputs": [
    {
     "name": "stdout",
     "output_type": "stream",
     "text": [
      "Hilal Data:\n",
      "<class 'pandas.core.frame.DataFrame'>\n",
      "RangeIndex: 173 entries, 0 to 172\n",
      "Data columns (total 5 columns):\n",
      " #   Column           Non-Null Count  Dtype \n",
      "---  ------           --------------  ----- \n",
      " 0   property_title   173 non-null    object\n",
      " 1   location         168 non-null    object\n",
      " 2   number_of_rooms  168 non-null    object\n",
      " 3   price            173 non-null    object\n",
      " 4   size             6 non-null      object\n",
      "dtypes: object(5)\n",
      "memory usage: 6.9+ KB\n"
     ]
    },
    {
     "data": {
      "text/plain": [
       "property_title       0\n",
       "location             5\n",
       "number_of_rooms      5\n",
       "price                0\n",
       "size               167\n",
       "dtype: int64"
      ]
     },
     "execution_count": 3,
     "metadata": {},
     "output_type": "execute_result"
    }
   ],
   "source": [
    "print(\"Hilal Data:\")\n",
    "df_hilal.info()\n",
    "df_hilal.isnull().sum()"
   ]
  },
  {
   "cell_type": "code",
   "execution_count": 4,
   "id": "37897047-86ca-45cf-ab5a-ed375ef40db5",
   "metadata": {},
   "outputs": [
    {
     "name": "stdout",
     "output_type": "stream",
     "text": [
      "\n",
      "Dubizzle Data:\n",
      "<class 'pandas.core.frame.DataFrame'>\n",
      "RangeIndex: 5355 entries, 0 to 5354\n",
      "Data columns (total 5 columns):\n",
      " #   Column           Non-Null Count  Dtype \n",
      "---  ------           --------------  ----- \n",
      " 0   property_title   5355 non-null   object\n",
      " 1   location         5355 non-null   object\n",
      " 2   number_of_rooms  4304 non-null   object\n",
      " 3   price            5331 non-null   object\n",
      " 4   size             5355 non-null   object\n",
      "dtypes: object(5)\n",
      "memory usage: 209.3+ KB\n"
     ]
    },
    {
     "data": {
      "text/plain": [
       "property_title        0\n",
       "location              0\n",
       "number_of_rooms    1051\n",
       "price                24\n",
       "size                  0\n",
       "dtype: int64"
      ]
     },
     "execution_count": 4,
     "metadata": {},
     "output_type": "execute_result"
    }
   ],
   "source": [
    "print(\"\\nDubizzle Data:\")\n",
    "df_dubizzle.info()\n",
    "df_dubizzle.isnull().sum()"
   ]
  },
  {
   "cell_type": "code",
   "execution_count": 5,
   "id": "a77023ea-2204-4299-b0bd-87dec64f3a6a",
   "metadata": {},
   "outputs": [
    {
     "name": "stdout",
     "output_type": "stream",
     "text": [
      "Hilal Columns: ['property_title', 'location', 'number_of_rooms', 'price', 'size']\n",
      "Dubizzle Columns: ['property_title', 'location', 'number_of_rooms', 'price', 'size']\n"
     ]
    }
   ],
   "source": [
    "print(\"Hilal Columns:\", df_hilal.columns.tolist())\n",
    "print(\"Dubizzle Columns:\", df_dubizzle.columns.tolist())"
   ]
  },
  {
   "cell_type": "code",
   "execution_count": 6,
   "id": "acb86851-7c39-47e3-a245-c6a395ab1a39",
   "metadata": {},
   "outputs": [],
   "source": [
    "combined_df = pd.concat([df_hilal, df_dubizzle], ignore_index=True)"
   ]
  },
  {
   "cell_type": "code",
   "execution_count": 7,
   "id": "bf67df27-d6c1-4b25-9e82-2bee4f7e8e3d",
   "metadata": {},
   "outputs": [
    {
     "name": "stdout",
     "output_type": "stream",
     "text": [
      "Combined data saved to 'combined_rent_listings.csv'\n"
     ]
    }
   ],
   "source": [
    "combined_df.to_csv('combined_rent_listings.csv', index=False, encoding='utf-8-sig')\n",
    "print(\"Combined data saved to 'combined_rent_listings.csv'\")"
   ]
  },
  {
   "cell_type": "code",
   "execution_count": 8,
   "id": "913b2477-66e0-43d6-9274-90af460bf4a7",
   "metadata": {
    "scrolled": true
   },
   "outputs": [
    {
     "data": {
      "text/html": [
       "<div>\n",
       "<style scoped>\n",
       "    .dataframe tbody tr th:only-of-type {\n",
       "        vertical-align: middle;\n",
       "    }\n",
       "\n",
       "    .dataframe tbody tr th {\n",
       "        vertical-align: top;\n",
       "    }\n",
       "\n",
       "    .dataframe thead th {\n",
       "        text-align: right;\n",
       "    }\n",
       "</style>\n",
       "<table border=\"1\" class=\"dataframe\">\n",
       "  <thead>\n",
       "    <tr style=\"text-align: right;\">\n",
       "      <th></th>\n",
       "      <th>property_title</th>\n",
       "      <th>location</th>\n",
       "      <th>number_of_rooms</th>\n",
       "      <th>price</th>\n",
       "      <th>size</th>\n",
       "    </tr>\n",
       "  </thead>\n",
       "  <tbody>\n",
       "    <tr>\n",
       "      <th>0</th>\n",
       "      <td>2-BEDROOM APARTMENT</td>\n",
       "      <td>Al Ansab</td>\n",
       "      <td>2</td>\n",
       "      <td>OMR300</td>\n",
       "      <td>NaN</td>\n",
       "    </tr>\n",
       "    <tr>\n",
       "      <th>1</th>\n",
       "      <td>2-BEDROOM APARTMENT</td>\n",
       "      <td>Shatti Al Qurum</td>\n",
       "      <td>2</td>\n",
       "      <td>OMR500</td>\n",
       "      <td>NaN</td>\n",
       "    </tr>\n",
       "    <tr>\n",
       "      <th>2</th>\n",
       "      <td>4+1 BEDROOM TWIN VILLA</td>\n",
       "      <td>Madinat Qaboos (MQ)</td>\n",
       "      <td>4</td>\n",
       "      <td>OMR1,500</td>\n",
       "      <td>NaN</td>\n",
       "    </tr>\n",
       "    <tr>\n",
       "      <th>3</th>\n",
       "      <td>COMMERCIAL SHOP</td>\n",
       "      <td>Ghala</td>\n",
       "      <td>39</td>\n",
       "      <td>OMR370</td>\n",
       "      <td>NaN</td>\n",
       "    </tr>\n",
       "    <tr>\n",
       "      <th>4</th>\n",
       "      <td>COMMERCIAL OFFICE SPACE</td>\n",
       "      <td>Bausher</td>\n",
       "      <td>2</td>\n",
       "      <td>OMR4</td>\n",
       "      <td>NaN</td>\n",
       "    </tr>\n",
       "    <tr>\n",
       "      <th>5</th>\n",
       "      <td>2, 3 &amp; 4-BEDROOM COMPOUND VILLAS</td>\n",
       "      <td>Rusayl</td>\n",
       "      <td>2,3,4</td>\n",
       "      <td>OMR650</td>\n",
       "      <td>NaN</td>\n",
       "    </tr>\n",
       "    <tr>\n",
       "      <th>6</th>\n",
       "      <td>COMMERCIAL SPACE</td>\n",
       "      <td>Shatti Al Qurum</td>\n",
       "      <td>NaN</td>\n",
       "      <td>OMR6</td>\n",
       "      <td>NaN</td>\n",
       "    </tr>\n",
       "    <tr>\n",
       "      <th>7</th>\n",
       "      <td>6+1 BEDROOM TWIN VILLA</td>\n",
       "      <td>Bausher</td>\n",
       "      <td>6</td>\n",
       "      <td>OMR1,000</td>\n",
       "      <td>NaN</td>\n",
       "    </tr>\n",
       "    <tr>\n",
       "      <th>8</th>\n",
       "      <td>5+1 BEDROOM TWIN VILLA</td>\n",
       "      <td>Al Ansab</td>\n",
       "      <td>5</td>\n",
       "      <td>OMR750</td>\n",
       "      <td>NaN</td>\n",
       "    </tr>\n",
       "    <tr>\n",
       "      <th>9</th>\n",
       "      <td>RETAIL SPACES</td>\n",
       "      <td>Al Khuwair</td>\n",
       "      <td>NaN</td>\n",
       "      <td>OMR7</td>\n",
       "      <td>NaN</td>\n",
       "    </tr>\n",
       "  </tbody>\n",
       "</table>\n",
       "</div>"
      ],
      "text/plain": [
       "                     property_title             location number_of_rooms  \\\n",
       "0               2-BEDROOM APARTMENT             Al Ansab               2   \n",
       "1               2-BEDROOM APARTMENT      Shatti Al Qurum               2   \n",
       "2            4+1 BEDROOM TWIN VILLA  Madinat Qaboos (MQ)               4   \n",
       "3                   COMMERCIAL SHOP                Ghala              39   \n",
       "4           COMMERCIAL OFFICE SPACE              Bausher               2   \n",
       "5  2, 3 & 4-BEDROOM COMPOUND VILLAS               Rusayl           2,3,4   \n",
       "6                  COMMERCIAL SPACE      Shatti Al Qurum             NaN   \n",
       "7            6+1 BEDROOM TWIN VILLA              Bausher               6   \n",
       "8            5+1 BEDROOM TWIN VILLA             Al Ansab               5   \n",
       "9                     RETAIL SPACES           Al Khuwair             NaN   \n",
       "\n",
       "      price size  \n",
       "0    OMR300  NaN  \n",
       "1    OMR500  NaN  \n",
       "2  OMR1,500  NaN  \n",
       "3    OMR370  NaN  \n",
       "4      OMR4  NaN  \n",
       "5    OMR650  NaN  \n",
       "6      OMR6  NaN  \n",
       "7  OMR1,000  NaN  \n",
       "8    OMR750  NaN  \n",
       "9      OMR7  NaN  "
      ]
     },
     "execution_count": 8,
     "metadata": {},
     "output_type": "execute_result"
    }
   ],
   "source": [
    "combined_df.head(10)"
   ]
  },
  {
   "cell_type": "code",
   "execution_count": 9,
   "id": "65c412fd-485c-4757-b1cc-c93b11586527",
   "metadata": {},
   "outputs": [
    {
     "data": {
      "text/plain": [
       "property_title        0\n",
       "location              5\n",
       "number_of_rooms    1056\n",
       "price                24\n",
       "size                167\n",
       "dtype: int64"
      ]
     },
     "execution_count": 9,
     "metadata": {},
     "output_type": "execute_result"
    }
   ],
   "source": [
    "combined_df.isnull().sum()"
   ]
  },
  {
   "cell_type": "code",
   "execution_count": 10,
   "id": "3fa8f51a-f213-4f2f-b89f-5692ed62c292",
   "metadata": {},
   "outputs": [
    {
     "data": {
      "text/plain": [
       "property_title     object\n",
       "location           object\n",
       "number_of_rooms    object\n",
       "price              object\n",
       "size               object\n",
       "dtype: object"
      ]
     },
     "execution_count": 10,
     "metadata": {},
     "output_type": "execute_result"
    }
   ],
   "source": [
    "combined_df.dtypes"
   ]
  },
  {
   "cell_type": "code",
   "execution_count": 11,
   "id": "81ad6753-582d-461c-bf50-27794758952a",
   "metadata": {},
   "outputs": [
    {
     "data": {
      "text/plain": [
       "Index(['property_title', 'location', 'number_of_rooms', 'price', 'size'], dtype='object')"
      ]
     },
     "execution_count": 11,
     "metadata": {},
     "output_type": "execute_result"
    }
   ],
   "source": [
    "combined_df.columns"
   ]
  },
  {
   "cell_type": "code",
   "execution_count": 12,
   "id": "644ebab0-0efb-457d-9b2a-ea9b5d97949c",
   "metadata": {},
   "outputs": [
    {
     "data": {
      "text/plain": [
       "(5528, 5)"
      ]
     },
     "execution_count": 12,
     "metadata": {},
     "output_type": "execute_result"
    }
   ],
   "source": [
    "combined_df.shape"
   ]
  },
  {
   "cell_type": "code",
   "execution_count": 13,
   "id": "a84a1ccf-b574-4c1e-9101-2e8c8a48edce",
   "metadata": {},
   "outputs": [
    {
     "data": {
      "text/html": [
       "<div>\n",
       "<style scoped>\n",
       "    .dataframe tbody tr th:only-of-type {\n",
       "        vertical-align: middle;\n",
       "    }\n",
       "\n",
       "    .dataframe tbody tr th {\n",
       "        vertical-align: top;\n",
       "    }\n",
       "\n",
       "    .dataframe thead th {\n",
       "        text-align: right;\n",
       "    }\n",
       "</style>\n",
       "<table border=\"1\" class=\"dataframe\">\n",
       "  <thead>\n",
       "    <tr style=\"text-align: right;\">\n",
       "      <th></th>\n",
       "      <th>property_title</th>\n",
       "      <th>location</th>\n",
       "      <th>number_of_rooms</th>\n",
       "      <th>price</th>\n",
       "      <th>size</th>\n",
       "    </tr>\n",
       "  </thead>\n",
       "  <tbody>\n",
       "    <tr>\n",
       "      <th>count</th>\n",
       "      <td>5528</td>\n",
       "      <td>5523</td>\n",
       "      <td>4472</td>\n",
       "      <td>5504</td>\n",
       "      <td>5361</td>\n",
       "    </tr>\n",
       "    <tr>\n",
       "      <th>unique</th>\n",
       "      <td>4736</td>\n",
       "      <td>100</td>\n",
       "      <td>33</td>\n",
       "      <td>449</td>\n",
       "      <td>558</td>\n",
       "    </tr>\n",
       "    <tr>\n",
       "      <th>top</th>\n",
       "      <td>room for rent</td>\n",
       "      <td>Salalah, Dhofar•</td>\n",
       "      <td>1</td>\n",
       "      <td>OMR 50</td>\n",
       "      <td>100 SQM</td>\n",
       "    </tr>\n",
       "    <tr>\n",
       "      <th>freq</th>\n",
       "      <td>38</td>\n",
       "      <td>565</td>\n",
       "      <td>1575</td>\n",
       "      <td>384</td>\n",
       "      <td>396</td>\n",
       "    </tr>\n",
       "  </tbody>\n",
       "</table>\n",
       "</div>"
      ],
      "text/plain": [
       "       property_title          location number_of_rooms   price     size\n",
       "count            5528              5523            4472    5504     5361\n",
       "unique           4736               100              33     449      558\n",
       "top     room for rent  Salalah, Dhofar•               1  OMR 50  100 SQM\n",
       "freq               38               565            1575     384      396"
      ]
     },
     "execution_count": 13,
     "metadata": {},
     "output_type": "execute_result"
    }
   ],
   "source": [
    "combined_df.describe()"
   ]
  },
  {
   "cell_type": "markdown",
   "id": "ab2d6a65-8a75-4352-a321-82d5fc27ee5b",
   "metadata": {},
   "source": [
    "### Column1 property_title\t"
   ]
  },
  {
   "cell_type": "code",
   "execution_count": 14,
   "id": "1b7830eb-c524-4e88-abbd-42e40c5bd11e",
   "metadata": {},
   "outputs": [
    {
     "data": {
      "text/plain": [
       "array(['2-BEDROOM APARTMENT', '4+1 BEDROOM TWIN VILLA', 'COMMERCIAL SHOP',\n",
       "       ..., 'Room For Rent With Attach Barth Room',\n",
       "       '2 bhk furniture for rent in mq',\n",
       "       'single executive room only for ladies'], dtype=object)"
      ]
     },
     "execution_count": 14,
     "metadata": {},
     "output_type": "execute_result"
    }
   ],
   "source": [
    "combined_df['property_title'].unique()"
   ]
  },
  {
   "cell_type": "code",
   "execution_count": 15,
   "id": "9a13d4b2-633c-4b1a-8f91-faa611820f04",
   "metadata": {
    "scrolled": true
   },
   "outputs": [
    {
     "data": {
      "text/plain": [
       "np.int64(0)"
      ]
     },
     "execution_count": 15,
     "metadata": {},
     "output_type": "execute_result"
    }
   ],
   "source": [
    "combined_df['property_title'].isnull().sum()"
   ]
  },
  {
   "cell_type": "code",
   "execution_count": 16,
   "id": "2502db0c-2c3d-4dee-b27c-5f6b56f5ebc1",
   "metadata": {},
   "outputs": [
    {
     "data": {
      "text/plain": [
       "(5528, 5)"
      ]
     },
     "execution_count": 16,
     "metadata": {},
     "output_type": "execute_result"
    }
   ],
   "source": [
    "combined_df.shape"
   ]
  },
  {
   "cell_type": "code",
   "execution_count": 17,
   "id": "8d1ad6e4-6e9c-40bf-89e3-b89e5a4314f7",
   "metadata": {},
   "outputs": [
    {
     "name": "stdout",
     "output_type": "stream",
     "text": [
      "Total rows: 5528\n",
      "Rows with identified property_type: 4581\n",
      "Rows with null property_type: 947\n"
     ]
    }
   ],
   "source": [
    "# Normalize the 'property_title' column by converting to string,\n",
    "# stripping leading/trailing whitespace, and converting all text to lowercase\n",
    "# to ensure consistent and case-insensitive keyword matching.\n",
    "combined_df['property_title'] = combined_df['property_title'].astype(str).str.strip().str.lower()\n",
    "\n",
    "def extract_property_type(title):\n",
    "    \"\"\"\n",
    "    Extract the property type keyword from a given property title.\n",
    "    Searches first in English keywords, then Arabic keywords.\n",
    "    Returns the exact keyword found.\n",
    "    Returns None if no keyword is matched, resulting in a null value in pandas.\n",
    "    \"\"\"\n",
    "\n",
    "    # List of English keywords commonly used in property titles\n",
    "    english_keywords = [\n",
    "        'apartment', 'flat', 'apartments', 'rooms', 'room',\n",
    "        'villa',\n",
    "        'townhouse',\n",
    "        'studio',\n",
    "        'duplex',\n",
    "        'penthouse',\n",
    "        'compound',\n",
    "        'office', 'offices', 'office space', 'office spaces',\n",
    "        'shop', 'shops', 'showroom', 'retail', 'store',\n",
    "        'warehouse', 'storage',\n",
    "        'gym', 'pool',\n",
    "        'space',\n",
    "        'building',\n",
    "        'farm',\n",
    "        'hall',\n",
    "        'tent',\n",
    "        'container',\n",
    "        'basement',\n",
    "        'land',\n",
    "        'bed space',\n",
    "        'home',\n",
    "        'rest house',\n",
    "        'bedroom',\n",
    "        'flat for rent',\n",
    "        'store for rent',\n",
    "        'villa for rent',\n",
    "        'home for rent',\n",
    "        'farm for rent',\n",
    "        'land for rent'\n",
    "    ]\n",
    "\n",
    "    # List of Arabic keywords commonly used in property titles\n",
    "    arabic_keywords = [\n",
    "        'شقة', 'شقق',\n",
    "        'فيلا',\n",
    "        'تاون هاوس',\n",
    "        'استوديو',\n",
    "        'مكتب', 'مكاتب',\n",
    "        'محل', 'محلات', 'محلين',\n",
    "        'مستودع', 'مخزن',\n",
    "        'جيم', 'مسبح', 'بول',\n",
    "        'قاعة',\n",
    "        'غرفة', 'غرف', 'غرفتين',\n",
    "        'أرض',\n",
    "        'مجمع',\n",
    "        'مبنى',\n",
    "        'استراحة',\n",
    "        'بيت',\n",
    "        'معرض',\n",
    "        'سكن'\n",
    "    ]\n",
    "\n",
    "    # Search for any English keyword in the title string\n",
    "    for word in english_keywords:\n",
    "        if word in title:\n",
    "            return word\n",
    "\n",
    "    # If no English keyword found, search Arabic keywords\n",
    "    for word in arabic_keywords:\n",
    "        if word in title:\n",
    "            return word\n",
    "\n",
    "    # Return None if no keywords matched; pandas will treat this as NaN (null)\n",
    "    return None\n",
    "\n",
    "# Apply the extraction function on the 'property_title' column\n",
    "# Create a new column 'property_type' that holds the extracted keyword or null\n",
    "combined_df['property_type'] = combined_df['property_title'].apply(extract_property_type)\n",
    "\n",
    "# NOTE:\n",
    "# Do NOT filter out rows with null values in 'property_type' to keep all rows intact.\n",
    "# Rows with no matched keywords will have null (NaN) in 'property_type'.\n",
    "\n",
    "# Optional: To check row counts and nulls\n",
    "print(f\"Total rows: {len(combined_df)}\")\n",
    "print(f\"Rows with identified property_type: {combined_df['property_type'].notnull().sum()}\")\n",
    "print(f\"Rows with null property_type: {combined_df['property_type'].isnull().sum()}\")\n"
   ]
  },
  {
   "cell_type": "markdown",
   "id": "97f61bcd-5a58-42d8-919c-6c5731bedf4b",
   "metadata": {},
   "source": [
    "## property_type"
   ]
  },
  {
   "cell_type": "code",
   "execution_count": 18,
   "id": "b403642c-22dc-48b3-9bc7-adad93d12702",
   "metadata": {},
   "outputs": [
    {
     "data": {
      "text/plain": [
       "<bound method Series.unique of 0       apartment\n",
       "1       apartment\n",
       "2            room\n",
       "3            shop\n",
       "4          office\n",
       "          ...    \n",
       "5523         room\n",
       "5524         room\n",
       "5525         room\n",
       "5526         None\n",
       "5527         room\n",
       "Name: property_type, Length: 5528, dtype: object>"
      ]
     },
     "execution_count": 18,
     "metadata": {},
     "output_type": "execute_result"
    }
   ],
   "source": [
    "combined_df['property_type'].unique"
   ]
  },
  {
   "cell_type": "code",
   "execution_count": 19,
   "id": "d66317dc-3c5e-41d2-9504-50e67c210aae",
   "metadata": {},
   "outputs": [
    {
     "data": {
      "text/plain": [
       "(5528,)"
      ]
     },
     "execution_count": 19,
     "metadata": {},
     "output_type": "execute_result"
    }
   ],
   "source": [
    "combined_df['property_type'].shape"
   ]
  },
  {
   "cell_type": "code",
   "execution_count": 20,
   "id": "212bbbdd-841d-4516-a9bb-cbf9774fe646",
   "metadata": {},
   "outputs": [],
   "source": [
    "# Extract property type\n",
    "combined_df['property_type'] = combined_df['property_title'].apply(extract_property_type)\n",
    "\n",
    "# Arabic to English translation dictionary\n",
    "arabic_to_english_map = {\n",
    "    'شقة': 'apartment',\n",
    "    'شقق': 'apartment',\n",
    "    'فيلا': 'villa',\n",
    "    'تاون هاوس': 'townhouse',\n",
    "    'استوديو': 'studio',\n",
    "    'مكتب': 'office',\n",
    "    'مكاتب': 'office',\n",
    "    'محل': 'shop',\n",
    "    'محلات': 'shop',\n",
    "    'محلين': 'shop',\n",
    "    'مستودع': 'warehouse',\n",
    "    'مخزن': 'warehouse',\n",
    "    'جيم': 'gym',\n",
    "    'مسبح': 'pool',\n",
    "    'بول': 'pool',\n",
    "    'قاعة': 'hall',\n",
    "    'غرفة': 'room',\n",
    "    'غرف': 'room',\n",
    "    'غرفتين': 'room',\n",
    "    'أرض': 'land',\n",
    "    'مجمع': 'compound',\n",
    "    'مبنى': 'building',\n",
    "    'استراحة': 'rest house',\n",
    "    'بيت': 'home',\n",
    "    'معرض': 'showroom',\n",
    "    'سكن': 'residence'\n",
    "}\n",
    "\n",
    "def unify_property_type(ptype):\n",
    "    if ptype in arabic_to_english_map:\n",
    "        return arabic_to_english_map[ptype]\n",
    "    else:\n",
    "        return ptype\n",
    "\n",
    "# Translate Arabic property types to English in the same column\n",
    "combined_df['property_type'] = combined_df['property_type'].apply(unify_property_type)"
   ]
  },
  {
   "cell_type": "code",
   "execution_count": 21,
   "id": "017ea157-834b-47b8-81c4-b9151b310692",
   "metadata": {},
   "outputs": [],
   "source": [
    "most_common_type = combined_df['property_type'].mode()[0]\n",
    "combined_df['property_type'] = combined_df['property_type'].fillna(most_common_type)"
   ]
  },
  {
   "cell_type": "code",
   "execution_count": 22,
   "id": "b403ae27-fd0d-43d0-b004-d94fb541c763",
   "metadata": {},
   "outputs": [
    {
     "data": {
      "text/plain": [
       "array(['apartment', 'room', 'shop', 'office', 'space', 'retail', 'villa',\n",
       "       'townhouse', 'warehouse', 'flat', 'rooms', 'land', 'building',\n",
       "       'duplex', 'penthouse', 'studio', 'store', 'pool', 'compound',\n",
       "       'rest house', 'home', 'residence', 'showroom', 'farm', 'hall',\n",
       "       'storage', 'gym'], dtype=object)"
      ]
     },
     "execution_count": 22,
     "metadata": {},
     "output_type": "execute_result"
    }
   ],
   "source": [
    "combined_df['property_type'].unique()"
   ]
  },
  {
   "cell_type": "code",
   "execution_count": 23,
   "id": "9b9fb19f-58ec-41e9-9b5b-bda6d1c37899",
   "metadata": {},
   "outputs": [
    {
     "name": "stdout",
     "output_type": "stream",
     "text": [
      "Number of null values in 'property_type': 0\n"
     ]
    }
   ],
   "source": [
    "null_count = combined_df['property_type'].isnull().sum()\n",
    "print(f\"Number of null values in 'property_type': {null_count}\")"
   ]
  },
  {
   "cell_type": "code",
   "execution_count": 24,
   "id": "96c6fb17-473f-414a-98d3-bf2e264dfc3a",
   "metadata": {},
   "outputs": [
    {
     "data": {
      "text/html": [
       "<div>\n",
       "<style scoped>\n",
       "    .dataframe tbody tr th:only-of-type {\n",
       "        vertical-align: middle;\n",
       "    }\n",
       "\n",
       "    .dataframe tbody tr th {\n",
       "        vertical-align: top;\n",
       "    }\n",
       "\n",
       "    .dataframe thead th {\n",
       "        text-align: right;\n",
       "    }\n",
       "</style>\n",
       "<table border=\"1\" class=\"dataframe\">\n",
       "  <thead>\n",
       "    <tr style=\"text-align: right;\">\n",
       "      <th></th>\n",
       "      <th>property_title</th>\n",
       "      <th>location</th>\n",
       "      <th>number_of_rooms</th>\n",
       "      <th>price</th>\n",
       "      <th>size</th>\n",
       "      <th>property_type</th>\n",
       "    </tr>\n",
       "  </thead>\n",
       "  <tbody>\n",
       "    <tr>\n",
       "      <th>count</th>\n",
       "      <td>5528</td>\n",
       "      <td>5523</td>\n",
       "      <td>4472</td>\n",
       "      <td>5504</td>\n",
       "      <td>5361</td>\n",
       "      <td>5528</td>\n",
       "    </tr>\n",
       "    <tr>\n",
       "      <th>unique</th>\n",
       "      <td>4674</td>\n",
       "      <td>100</td>\n",
       "      <td>33</td>\n",
       "      <td>449</td>\n",
       "      <td>558</td>\n",
       "      <td>27</td>\n",
       "    </tr>\n",
       "    <tr>\n",
       "      <th>top</th>\n",
       "      <td>room for rent</td>\n",
       "      <td>Salalah, Dhofar•</td>\n",
       "      <td>1</td>\n",
       "      <td>OMR 50</td>\n",
       "      <td>100 SQM</td>\n",
       "      <td>room</td>\n",
       "    </tr>\n",
       "    <tr>\n",
       "      <th>freq</th>\n",
       "      <td>93</td>\n",
       "      <td>565</td>\n",
       "      <td>1575</td>\n",
       "      <td>384</td>\n",
       "      <td>396</td>\n",
       "      <td>2025</td>\n",
       "    </tr>\n",
       "  </tbody>\n",
       "</table>\n",
       "</div>"
      ],
      "text/plain": [
       "       property_title          location number_of_rooms   price     size  \\\n",
       "count            5528              5523            4472    5504     5361   \n",
       "unique           4674               100              33     449      558   \n",
       "top     room for rent  Salalah, Dhofar•               1  OMR 50  100 SQM   \n",
       "freq               93               565            1575     384      396   \n",
       "\n",
       "       property_type  \n",
       "count           5528  \n",
       "unique            27  \n",
       "top             room  \n",
       "freq            2025  "
      ]
     },
     "execution_count": 24,
     "metadata": {},
     "output_type": "execute_result"
    }
   ],
   "source": [
    "combined_df.describe()"
   ]
  },
  {
   "cell_type": "code",
   "execution_count": 25,
   "id": "b12656d2-65a9-4879-a344-20ee132569ba",
   "metadata": {},
   "outputs": [],
   "source": [
    "# Step 1: Convert to lowercase and strip whitespace\n",
    "combined_df['property_type'] = combined_df['property_type'].str.lower().str.strip()"
   ]
  },
  {
   "cell_type": "code",
   "execution_count": 26,
   "id": "a01e964d-4a8d-4dcf-a6ce-624dde2d62fe",
   "metadata": {},
   "outputs": [
    {
     "name": "stdout",
     "output_type": "stream",
     "text": [
      "property_type\n",
      "room          2025\n",
      "apartment     1057\n",
      "villa          805\n",
      "commercial     636\n",
      "flat           395\n",
      "shop           238\n",
      "rooms           83\n",
      "studio          71\n",
      "house           63\n",
      "warehouse       57\n",
      "land            49\n",
      "building        29\n",
      "other           12\n",
      "compound         4\n",
      "industrial       4\n",
      "Name: count, dtype: int64\n"
     ]
    }
   ],
   "source": [
    "# Define refined mapping\n",
    "refined_mapping = {\n",
    "    'room': 'room',\n",
    "    'apartment': 'apartment',\n",
    "    'studio': 'studio',\n",
    "    'villa': 'villa',\n",
    "    'townhouse': 'villa',\n",
    "    'duplex': 'villa',\n",
    "    'rest house': 'villa',\n",
    "    \n",
    "    'home': 'house',\n",
    "    'residence': 'house',\n",
    "    \n",
    "    'compound': 'compound',\n",
    "    \n",
    "    'commercial': 'commercial',\n",
    "    'store': 'commercial',\n",
    "    'retail': 'commercial',\n",
    "    'showroom': 'commercial',\n",
    "    'hall': 'commercial',\n",
    "    'space': 'commercial',\n",
    "    \n",
    "    'building': 'building',\n",
    "    'office': 'commercial',\n",
    "    \n",
    "    'penthouse': 'apartment',\n",
    "    \n",
    "    'land': 'land',\n",
    "    'farm': 'land',\n",
    "    \n",
    "    'industrial': 'industrial',\n",
    "    'storage': 'industrial',\n",
    "    \n",
    "    'gym': 'other',\n",
    "    'pool': 'other',\n",
    "}\n",
    "\n",
    "# Apply mapping\n",
    "combined_df['property_type'] = combined_df['property_type'].replace(refined_mapping)\n",
    "\n",
    "# Optional: See cleaned unique types\n",
    "print(combined_df['property_type'].value_counts())"
   ]
  },
  {
   "cell_type": "code",
   "execution_count": 27,
   "id": "61ba82a0-991e-4796-853a-e77c216a03cb",
   "metadata": {},
   "outputs": [],
   "source": [
    "from sklearn.preprocessing import LabelEncoder\n",
    "\n",
    "# Label Encoding\n",
    "le = LabelEncoder()\n",
    "combined_df['property_type_encoded'] = le.fit_transform(combined_df['property_type'])"
   ]
  },
  {
   "cell_type": "code",
   "execution_count": 28,
   "id": "2e14b7f0-4460-40f6-9586-3a1b776408aa",
   "metadata": {},
   "outputs": [
    {
     "data": {
      "text/plain": [
       "property_title           object\n",
       "location                 object\n",
       "number_of_rooms          object\n",
       "price                    object\n",
       "size                     object\n",
       "property_type            object\n",
       "property_type_encoded     int64\n",
       "dtype: object"
      ]
     },
     "execution_count": 28,
     "metadata": {},
     "output_type": "execute_result"
    }
   ],
   "source": [
    "combined_df.dtypes"
   ]
  },
  {
   "cell_type": "markdown",
   "id": "4c8773bb-de97-473d-aca3-2a631edbf6e7",
   "metadata": {},
   "source": [
    "## Location"
   ]
  },
  {
   "cell_type": "code",
   "execution_count": 29,
   "id": "a26878ae-64c8-46a0-aaa7-f42afc9fe3d1",
   "metadata": {},
   "outputs": [
    {
     "data": {
      "text/plain": [
       "array(['Al Ansab', 'Shatti Al Qurum', 'Madinat Qaboos (MQ)', 'Ghala',\n",
       "       'Bausher', 'Rusayl', 'Al Khuwair', nan, 'Azaiba', 'Maabelah',\n",
       "       'Al Ghoubrah', 'Darsait', 'Al Mawaleh', 'Madinat Al llam',\n",
       "       'Muscat Hills', 'The Wave Muscat', 'Qurum', 'Al Hail', 'Al Khoudh',\n",
       "       'Ruwi', 'Salalah', 'MUSCAT BAY', 'Al Mouj', 'Mutrah', 'Al Awabi',\n",
       "       'Seeb', 'Muscat', 'Nizwa', 'Qurum, Muscat•', 'Azaiba, Muscat•',\n",
       "       'Bosher, Muscat•', 'Muscat Hills, Muscat•',\n",
       "       'The Wave (Almouj), Muscat•', 'Al Khoud, Muscat•',\n",
       "       'Al Maabilah, Muscat•', 'Al Seeb, Muscat•', 'Darsait, Muscat•',\n",
       "       'Ruwi, Muscat•', 'Al Amarat, Muscat•',\n",
       "       'Madinat As Sultan Qaboos, Muscat•', 'Al Ghubrah, Muscat•',\n",
       "       'Al Khuwair, Muscat•', 'Al Hail, Muscat•', 'Al Mawaleh, Muscat•',\n",
       "       'Al Wadi Al Kabir, Muscat•', 'Misfah, Muscat•',\n",
       "       'Muscat - Other, Muscat•', 'Salalah, Dhofar•', 'Ghala, Muscat•',\n",
       "       'Barka, Al Batinah•', 'Al Rusayl, Muscat•', 'Ansab, Muscat•',\n",
       "       'Barr Al Jissah, Muscat•', 'Mutrah, Muscat•', 'Sohar, Al Batinah•',\n",
       "       'Qantab, Muscat•', 'Al Hamriyah, Muscat•', 'Al Duqum, Al Wusta•',\n",
       "       'Nizwa, Al Dakhiliya•', 'Al Bustan, Muscat•', 'Al Sifah, Muscat•',\n",
       "       'Liwa, Al Batinah•', 'Al Buraimi, Al Buraimi•',\n",
       "       'Al Khaboura, Al Batinah•', \"Ja'alan Bani Bu Ali, Al Sharqiya•\",\n",
       "       'Sur, Al Sharqiya•', 'Taqah, Dhofar•', 'Yiti, Muscat•',\n",
       "       'Izki, Al Dakhiliya•', 'Yunqul, Al Dhahirah•', 'Qurayyat, Muscat•',\n",
       "       'Saham, Al Batinah•', 'Ibri, Al Dhahirah•', 'Masira, Al Sharqiya•',\n",
       "       'Rakhyut, Dhofar•', 'Al Qabil, Al Sharqiya•',\n",
       "       'Al Kamil and Al Waafi, Al Sharqiya•', \"Al Masn'a, Al Batinah•\",\n",
       "       'Suwaiq, Al Batinah•', 'Bidbid, Al Dakhiliya•', 'Sadab, Muscat•',\n",
       "       'Khasab, Musandam•', 'Al Mudaibi, Al Sharqiya•',\n",
       "       'Al Sinainah, Al Buraimi•',\n",
       "       'Shalim and The Hallaniyat Island, Dhofar•', 'Haima, Al Wusta•',\n",
       "       'Adam, Al Dakhiliya•', 'Shinas, Al Batinah•', 'Sadah, Dhofar•',\n",
       "       'Mirbat, Dhofar•', \"Al 'Awabi, Al Batinah•\",\n",
       "       'Sumail, Al Dakhiliya•', 'Ibra, Al Sharqiya•',\n",
       "       'Sultan Haitham City, Muscat•', 'Bahla, Al Dakhiliya•',\n",
       "       'Mahdhah, Al Buraimi•', 'Al Rustaq, Al Batinah•',\n",
       "       'Bidiya, Al Sharqiya•', 'Nakhl, Al Batinah•',\n",
       "       'Manah, Al Dakhiliya•', 'Al Mazyona, Dhofar•'], dtype=object)"
      ]
     },
     "execution_count": 29,
     "metadata": {},
     "output_type": "execute_result"
    }
   ],
   "source": [
    "combined_df['location'].unique()\n"
   ]
  },
  {
   "cell_type": "code",
   "execution_count": 30,
   "id": "8fba168d-b650-4c75-bb94-27e11c1e1735",
   "metadata": {},
   "outputs": [
    {
     "name": "stdout",
     "output_type": "stream",
     "text": [
      "Number of null values in 'location': 5\n"
     ]
    }
   ],
   "source": [
    "null_count = combined_df['location'].isnull().sum()\n",
    "print(f\"Number of null values in 'location': {null_count}\")"
   ]
  },
  {
   "cell_type": "code",
   "execution_count": 31,
   "id": "d1b37db1-a119-4edf-8cb8-2b00a15145b7",
   "metadata": {},
   "outputs": [],
   "source": [
    "combined_df = combined_df.dropna(subset=['location'])"
   ]
  },
  {
   "cell_type": "code",
   "execution_count": 32,
   "id": "63aea1cf-4345-4008-a736-36c1b622b298",
   "metadata": {},
   "outputs": [
    {
     "name": "stdout",
     "output_type": "stream",
     "text": [
      "['al ansab' 'shatti al qurum' 'madinat qaboos (mq)' 'ghala' 'bausher'\n",
      " 'rusayl' 'al khuwair' 'azaiba' 'maabelah' 'al ghoubrah' 'darsait'\n",
      " 'al mawaleh' 'madinat al llam' 'muscat hills' 'the wave muscat' 'qurum'\n",
      " 'al hail' 'al khoudh' 'ruwi' 'salalah' 'muscat bay' 'al mouj' 'mutrah'\n",
      " 'al awabi' 'seeb' 'muscat' 'nizwa' 'bosher' 'the wave (almouj)'\n",
      " 'al khoud' 'al maabilah' 'al seeb' 'al amarat' 'madinat as sultan qaboos'\n",
      " 'al ghubrah' 'al wadi al kabir' 'misfah' 'muscat - other' 'barka'\n",
      " 'al rusayl' 'ansab' 'barr al jissah' 'sohar' 'qantab' 'al hamriyah'\n",
      " 'al duqum' 'al bustan' 'al sifah' 'liwa' 'al buraimi' 'al khaboura'\n",
      " \"ja'alan bani bu ali\" 'sur' 'taqah' 'yiti' 'izki' 'yunqul' 'qurayyat'\n",
      " 'saham' 'ibri' 'masira' 'rakhyut' 'al qabil' 'al kamil and al waafi'\n",
      " \"al masn'a\" 'suwaiq' 'bidbid' 'sadab' 'khasab' 'al mudaibi' 'al sinainah'\n",
      " 'shalim and the hallaniyat island' 'haima' 'adam' 'shinas' 'sadah'\n",
      " 'mirbat' \"al 'awabi\" 'sumail' 'ibra' 'sultan haitham city' 'bahla'\n",
      " 'mahdhah' 'al rustaq' 'bidiya' 'nakhl' 'manah' 'al mazyona']\n",
      "location_clean\n",
      "salalah                     567\n",
      "al khuwair                  439\n",
      "qurum                       434\n",
      "al ghubrah                  357\n",
      "azaiba                      307\n",
      "al maabilah                 296\n",
      "madinat as sultan qaboos    287\n",
      "bosher                      273\n",
      "ruwi                        236\n",
      "the wave (almouj)           227\n",
      "al khoud                    193\n",
      "al mawaleh                  181\n",
      "ghala                       181\n",
      "al hail                     170\n",
      "muscat hills                149\n",
      "sohar                       135\n",
      "barka                       112\n",
      "al amarat                   109\n",
      "al wadi al kabir             95\n",
      "al seeb                      93\n",
      "Name: count, dtype: int64\n"
     ]
    }
   ],
   "source": [
    "import pandas as pd\n",
    "\n",
    "def clean_location(loc):\n",
    "    if pd.isna(loc):\n",
    "        return 'unknown'\n",
    "    loc = loc.lower().replace('•', '').strip()  # حذف العلامة وتحويل لصغير ومسح فراغات\n",
    "    if ',' in loc:\n",
    "        loc = loc.split(',')[0].strip()  # خذ الجزء قبل الفاصلة فقط\n",
    "    return loc\n",
    "\n",
    "combined_df['location_clean'] = combined_df['location'].apply(clean_location)\n",
    "\n",
    "# عرض القيم الفريدة بعد التنظيف\n",
    "print(combined_df['location_clean'].unique())\n",
    "print(combined_df['location_clean'].value_counts().head(20))"
   ]
  },
  {
   "cell_type": "code",
   "execution_count": 33,
   "id": "67eb4844-616e-4a52-b710-9ca07808b681",
   "metadata": {},
   "outputs": [
    {
     "data": {
      "text/plain": [
       "(5523, 8)"
      ]
     },
     "execution_count": 33,
     "metadata": {},
     "output_type": "execute_result"
    }
   ],
   "source": [
    "combined_df.shape"
   ]
  },
  {
   "cell_type": "code",
   "execution_count": 34,
   "id": "937387d1-2d1c-4691-b30e-ba7e51cf7803",
   "metadata": {},
   "outputs": [
    {
     "name": "stdout",
     "output_type": "stream",
     "text": [
      "['al ansab' 'shatti al qurum' 'madinat qaboos' 'ghala' 'bosher' 'rusayl'\n",
      " 'al khuwair' 'azaiba' 'al maabilah' 'al ghubrah' 'darsait' 'al mawaleh'\n",
      " 'madinat al illam' 'muscat hills' 'the wave' 'qurum' 'al hail' 'al khoud'\n",
      " 'ruwi' 'salalah' 'muscat bay' 'al mouj' 'mutrah' 'al awabi' 'seeb'\n",
      " 'muscat' 'nizwa' 'al amarat' 'madinat sultan qaboos' 'al wadi al kabir'\n",
      " 'misfah' 'barka' 'al rusayl' 'barr al jissah' 'sohar' 'qantab'\n",
      " 'al hamriyah' 'al duqum' 'al bustan' 'al sifah' 'liwa' 'al buraimi'\n",
      " 'al khaboura' \"ja'alan bani bu ali\" 'sur' 'taqah' 'yiti' 'izki' 'yunqul'\n",
      " 'qurayyat' 'saham' 'ibri' 'masirah' 'rakhyut' 'al qabil' 'al kamil waafi'\n",
      " 'alMusanaa' 'suwaiq' 'bidbid' 'sadab' 'khasab' 'al mudaibi' 'al sinainah'\n",
      " 'shalim and the hallaniyat islands' 'haima' 'adam' 'shinas' 'sadah'\n",
      " 'mirbat' 'sumail' 'ibra' 'sultan haitham city' 'bahla' 'mahdhah'\n",
      " 'al rustaq' 'bidiya' 'nakhal' 'manah' 'al mazyona']\n",
      "location_clean\n",
      "salalah                  567\n",
      "al khuwair               439\n",
      "qurum                    434\n",
      "al ghubrah               364\n",
      "azaiba                   307\n",
      "al maabilah              302\n",
      "madinat sultan qaboos    287\n",
      "bosher                   281\n",
      "ruwi                     236\n",
      "the wave                 228\n",
      "al khoud                 196\n",
      "al mawaleh               181\n",
      "ghala                    181\n",
      "al hail                  170\n",
      "muscat hills             149\n",
      "sohar                    135\n",
      "barka                    112\n",
      "al amarat                109\n",
      "seeb                      96\n",
      "al wadi al kabir          95\n",
      "Name: count, dtype: int64\n"
     ]
    }
   ],
   "source": [
    "# Dictionary of replacements to unify and correct location names\n",
    "replace_dict = {\n",
    "    'bausher': 'bosher',\n",
    "    'maabelah': 'al maabilah',\n",
    "    'al ghoubrah': 'al ghubrah',\n",
    "    'madinat qaboos (mq)': 'madinat qaboos',\n",
    "    'madinat as sultan qaboos': 'madinat sultan qaboos',\n",
    "    'ansab': 'al ansab',\n",
    "    'al khoudh': 'al khoud',\n",
    "    'the wave muscat': 'the wave',\n",
    "    'the wave (almouj)': 'the wave',\n",
    "    'muscat - other': 'muscat',\n",
    "    'madinat al llam': 'madinat al illam',\n",
    "    \"al kamil and al waafi\": \"al kamil waafi\",\n",
    "    'masira': 'masirah',\n",
    "    'nakhl': 'nakhal',\n",
    "    \"al masn'a\": 'alMusanaa',\n",
    "    'shalim and the hallaniyat island': 'shalim and the hallaniyat islands',\n",
    "    \"al 'awabi\": 'al awabi',\n",
    "    'al seeb': 'seeb',\n",
    "    # Also unify some common names as they are correct\n",
    "    'madinat al illam': 'madinat al illam',\n",
    "    'bidiya': 'bidiya',\n",
    "    'ibra': 'ibra',\n",
    "    'salalah': 'salalah',\n",
    "    'sohar': 'sohar',\n",
    "    'mutrah': 'mutrah',\n",
    "    'qurum': 'qurum',\n",
    "    'seeb': 'seeb',\n",
    "    'bosher': 'bosher',\n",
    "    'ruwi': 'ruwi',\n",
    "    'al maabilah': 'al maabilah',\n",
    "    'al amarat': 'al amarat',\n",
    "    'barka': 'barka',\n",
    "    'al wadi al kabir': 'al wadi al kabir',\n",
    "    'al hail': 'al hail',\n",
    "    'ghala': 'ghala',\n",
    "    'madinat sultan qaboos': 'madinat sultan qaboos',\n",
    "}\n",
    "\n",
    "# Apply the replacements on the 'location_clean' column\n",
    "combined_df['location_clean'] = combined_df['location_clean'].replace(replace_dict)\n",
    "\n",
    "# Print the unique cleaned location names and their counts to verify\n",
    "print(combined_df['location_clean'].unique())\n",
    "print(combined_df['location_clean'].value_counts().head(20))\n"
   ]
  },
  {
   "cell_type": "code",
   "execution_count": 35,
   "id": "e3f36b9f-5b86-4a0f-a795-2cee07fd4582",
   "metadata": {},
   "outputs": [
    {
     "data": {
      "text/plain": [
       "array(['al ansab', 'shatti al qurum', 'madinat qaboos', 'ghala', 'bosher',\n",
       "       'rusayl', 'al khuwair', 'azaiba', 'al maabilah', 'al ghubrah',\n",
       "       'darsait', 'al mawaleh', 'madinat al illam', 'muscat hills',\n",
       "       'the wave', 'qurum', 'al hail', 'al khoud', 'ruwi', 'salalah',\n",
       "       'muscat bay', 'al mouj', 'mutrah', 'al awabi', 'seeb', 'muscat',\n",
       "       'nizwa', 'al amarat', 'madinat sultan qaboos', 'al wadi al kabir',\n",
       "       'misfah', 'barka', 'al rusayl', 'barr al jissah', 'sohar',\n",
       "       'qantab', 'al hamriyah', 'al duqum', 'al bustan', 'al sifah',\n",
       "       'liwa', 'al buraimi', 'al khaboura', \"ja'alan bani bu ali\", 'sur',\n",
       "       'taqah', 'yiti', 'izki', 'yunqul', 'qurayyat', 'saham', 'ibri',\n",
       "       'masirah', 'rakhyut', 'al qabil', 'al kamil waafi', 'alMusanaa',\n",
       "       'suwaiq', 'bidbid', 'sadab', 'khasab', 'al mudaibi', 'al sinainah',\n",
       "       'shalim and the hallaniyat islands', 'haima', 'adam', 'shinas',\n",
       "       'sadah', 'mirbat', 'sumail', 'ibra', 'sultan haitham city',\n",
       "       'bahla', 'mahdhah', 'al rustaq', 'bidiya', 'nakhal', 'manah',\n",
       "       'al mazyona'], dtype=object)"
      ]
     },
     "execution_count": 35,
     "metadata": {},
     "output_type": "execute_result"
    }
   ],
   "source": [
    "combined_df['location_clean'].unique()\n"
   ]
  },
  {
   "cell_type": "code",
   "execution_count": 36,
   "id": "ebb161a6-8036-4631-bfbd-248302b59ec9",
   "metadata": {},
   "outputs": [
    {
     "name": "stdout",
     "output_type": "stream",
     "text": [
      "Location Label Mapping:\n",
      "{'adam': np.int64(0), 'al amarat': np.int64(1), 'al ansab': np.int64(2), 'al awabi': np.int64(3), 'al buraimi': np.int64(4), 'al bustan': np.int64(5), 'al duqum': np.int64(6), 'al ghubrah': np.int64(7), 'al hail': np.int64(8), 'al hamriyah': np.int64(9), 'al kamil waafi': np.int64(10), 'al khaboura': np.int64(11), 'al khoud': np.int64(12), 'al khuwair': np.int64(13), 'al maabilah': np.int64(14), 'al mawaleh': np.int64(15), 'al mazyona': np.int64(16), 'al mouj': np.int64(17), 'al mudaibi': np.int64(18), 'al qabil': np.int64(19), 'al rusayl': np.int64(20), 'al rustaq': np.int64(21), 'al sifah': np.int64(22), 'al sinainah': np.int64(23), 'al wadi al kabir': np.int64(24), 'alMusanaa': np.int64(25), 'azaiba': np.int64(26), 'bahla': np.int64(27), 'barka': np.int64(28), 'barr al jissah': np.int64(29), 'bidbid': np.int64(30), 'bidiya': np.int64(31), 'bosher': np.int64(32), 'darsait': np.int64(33), 'ghala': np.int64(34), 'haima': np.int64(35), 'ibra': np.int64(36), 'ibri': np.int64(37), 'izki': np.int64(38), \"ja'alan bani bu ali\": np.int64(39), 'khasab': np.int64(40), 'liwa': np.int64(41), 'madinat al illam': np.int64(42), 'madinat qaboos': np.int64(43), 'madinat sultan qaboos': np.int64(44), 'mahdhah': np.int64(45), 'manah': np.int64(46), 'masirah': np.int64(47), 'mirbat': np.int64(48), 'misfah': np.int64(49), 'muscat': np.int64(50), 'muscat bay': np.int64(51), 'muscat hills': np.int64(52), 'mutrah': np.int64(53), 'nakhal': np.int64(54), 'nizwa': np.int64(55), 'qantab': np.int64(56), 'qurayyat': np.int64(57), 'qurum': np.int64(58), 'rakhyut': np.int64(59), 'rusayl': np.int64(60), 'ruwi': np.int64(61), 'sadab': np.int64(62), 'sadah': np.int64(63), 'saham': np.int64(64), 'salalah': np.int64(65), 'seeb': np.int64(66), 'shalim and the hallaniyat islands': np.int64(67), 'shatti al qurum': np.int64(68), 'shinas': np.int64(69), 'sohar': np.int64(70), 'sultan haitham city': np.int64(71), 'sumail': np.int64(72), 'sur': np.int64(73), 'suwaiq': np.int64(74), 'taqah': np.int64(75), 'the wave': np.int64(76), 'yiti': np.int64(77), 'yunqul': np.int64(78)}\n",
      "    location_clean  location_encoded\n",
      "0         al ansab                 2\n",
      "1  shatti al qurum                68\n",
      "2   madinat qaboos                43\n",
      "3            ghala                34\n",
      "4           bosher                32\n"
     ]
    }
   ],
   "source": [
    "from sklearn.preprocessing import LabelEncoder\n",
    "\n",
    "# Create a LabelEncoder instance\n",
    "le = LabelEncoder()\n",
    "\n",
    "# Fit and transform the location_clean column\n",
    "combined_df['location_encoded'] = le.fit_transform(combined_df['location_clean'])\n",
    "\n",
    "# Optional: View the mapping of labels to original names\n",
    "label_mapping = dict(zip(le.classes_, le.transform(le.classes_)))\n",
    "print(\"Location Label Mapping:\")\n",
    "print(label_mapping)\n",
    "\n",
    "# Preview result\n",
    "print(combined_df[['location_clean', 'location_encoded']].head())"
   ]
  },
  {
   "cell_type": "code",
   "execution_count": 37,
   "id": "6f93fa29-de32-4ac3-9b72-9f9f7a6101c8",
   "metadata": {},
   "outputs": [
    {
     "data": {
      "text/plain": [
       "property_title           object\n",
       "location                 object\n",
       "number_of_rooms          object\n",
       "price                    object\n",
       "size                     object\n",
       "property_type            object\n",
       "property_type_encoded     int64\n",
       "location_clean           object\n",
       "location_encoded          int64\n",
       "dtype: object"
      ]
     },
     "execution_count": 37,
     "metadata": {},
     "output_type": "execute_result"
    }
   ],
   "source": [
    "combined_df.dtypes"
   ]
  },
  {
   "cell_type": "markdown",
   "id": "481259ae-9e2b-44e8-a4c4-20f243060d7a",
   "metadata": {},
   "source": [
    "### number_of_rooms"
   ]
  },
  {
   "cell_type": "code",
   "execution_count": 38,
   "id": "787b9665-9bcf-4bb0-8f22-7c0d924bb83b",
   "metadata": {},
   "outputs": [],
   "source": [
    "# extract numeric values\n",
    "combined_df['number_of_rooms_clean'] = combined_df['number_of_rooms'].str.extract(r'(\\d+)').astype(float)"
   ]
  },
  {
   "cell_type": "code",
   "execution_count": 39,
   "id": "fc6988ea-9d7b-431d-94bc-e9af0f6428a3",
   "metadata": {},
   "outputs": [],
   "source": [
    "combined_df['number_of_rooms_clean'] = pd.to_numeric(combined_df['number_of_rooms'], errors='coerce')"
   ]
  },
  {
   "cell_type": "code",
   "execution_count": 40,
   "id": "ac3bca25-5176-457a-bb19-465369e7450f",
   "metadata": {},
   "outputs": [
    {
     "name": "stdout",
     "output_type": "stream",
     "text": [
      "number_of_rooms_clean\n",
      "1.00       1575\n",
      "2.00       1208\n",
      "3.00        575\n",
      "4.00        429\n",
      "5.00        334\n",
      "6.00        161\n",
      "7.00         70\n",
      "8.00         27\n",
      "9.00         10\n",
      "10.00         9\n",
      "12.00         6\n",
      "350.00        2\n",
      "200.00        1\n",
      "51.63         1\n",
      "39.00         1\n",
      "55.00         1\n",
      "415.00        1\n",
      "143.00        1\n",
      "84.00         1\n",
      "47.50         1\n",
      "5000.00       1\n",
      "97.00         1\n",
      "1400.00       1\n",
      "75.00         1\n",
      "32.00         1\n",
      "120.00        1\n",
      "11.00         1\n",
      "Name: count, dtype: int64\n"
     ]
    }
   ],
   "source": [
    "print(combined_df['number_of_rooms_clean'].value_counts())"
   ]
  },
  {
   "cell_type": "code",
   "execution_count": 41,
   "id": "172385fb-ce0f-457f-973d-67360309954e",
   "metadata": {},
   "outputs": [
    {
     "data": {
      "text/plain": [
       "property_title            object\n",
       "location                  object\n",
       "number_of_rooms           object\n",
       "price                     object\n",
       "size                      object\n",
       "property_type             object\n",
       "property_type_encoded      int64\n",
       "location_clean            object\n",
       "location_encoded           int64\n",
       "number_of_rooms_clean    float64\n",
       "dtype: object"
      ]
     },
     "execution_count": 41,
     "metadata": {},
     "output_type": "execute_result"
    }
   ],
   "source": [
    "combined_df.dtypes"
   ]
  },
  {
   "cell_type": "code",
   "execution_count": 42,
   "id": "594afda5-6d5c-4a8a-bc57-dc3e2ea2008a",
   "metadata": {},
   "outputs": [
    {
     "data": {
      "image/png": "[encoded data removed]",
      "text/plain": [
       "<Figure size 1200x600 with 2 Axes>"
      ]
     },
     "metadata": {},
     "output_type": "display_data"
    }
   ],
   "source": [
    "import matplotlib.pyplot as plt\n",
    "import seaborn as sns\n",
    "\n",
    "# Calculate IQR\n",
    "Q1 = combined_df['number_of_rooms_clean'].quantile(0.25)\n",
    "Q3 = combined_df['number_of_rooms_clean'].quantile(0.75)\n",
    "IQR = Q3 - Q1\n",
    "\n",
    "# Bounds\n",
    "lower_bound = Q1 - 1.5 * IQR\n",
    "upper_bound = Q3 + 1.5 * IQR\n",
    "\n",
    "# Replace outliers (Winsorization)\n",
    "combined_df['number_of_rooms_clean'] = combined_df['number_of_rooms_clean'].clip(lower=lower_bound, upper=upper_bound)\n",
    "\n",
    "# Plot before and after\n",
    "plt.figure(figsize=(12, 6))\n",
    "\n",
    "# Before\n",
    "plt.subplot(1, 2, 1)\n",
    "sns.boxplot(y=combined_df['number_of_rooms_clean'])\n",
    "plt.title('Before Outlier Capping')\n",
    "\n",
    "# After\n",
    "plt.subplot(1, 2, 2)\n",
    "sns.boxplot(y=combined_df['number_of_rooms_clean'])\n",
    "plt.title('After Outlier Capping')\n",
    "\n",
    "plt.tight_layout()\n",
    "plt.show()"
   ]
  },
  {
   "cell_type": "code",
   "execution_count": 43,
   "id": "79bf23ac-87f6-488e-a450-489f3fdae59c",
   "metadata": {},
   "outputs": [],
   "source": [
    "combined_df['number_of_rooms_clean'] = combined_df.groupby('property_type')['number_of_rooms_clean'].transform(\n",
    "    lambda x: x.fillna(x.mean())  # fill only nulls in x with mean of x\n",
    ")"
   ]
  },
  {
   "cell_type": "code",
   "execution_count": 44,
   "id": "3252d48a-1310-4fad-afb4-00aab67c46a1",
   "metadata": {},
   "outputs": [
    {
     "data": {
      "text/plain": [
       "property_title            object\n",
       "location                  object\n",
       "number_of_rooms           object\n",
       "price                     object\n",
       "size                      object\n",
       "property_type             object\n",
       "property_type_encoded      int64\n",
       "location_clean            object\n",
       "location_encoded           int64\n",
       "number_of_rooms_clean    float64\n",
       "dtype: object"
      ]
     },
     "execution_count": 44,
     "metadata": {},
     "output_type": "execute_result"
    }
   ],
   "source": [
    "combined_df.dtypes"
   ]
  },
  {
   "cell_type": "markdown",
   "id": "6945c322-6529-40d9-ac41-50624ff16843",
   "metadata": {},
   "source": [
    "## Size"
   ]
  },
  {
   "cell_type": "code",
   "execution_count": 45,
   "id": "ca9d08a9-3900-45e4-ad59-32c85175c139",
   "metadata": {},
   "outputs": [
    {
     "data": {
      "text/plain": [
       "<bound method Series.unique of 0           NaN\n",
       "1           NaN\n",
       "2           NaN\n",
       "3           NaN\n",
       "4           NaN\n",
       "         ...   \n",
       "5523     70 SQM\n",
       "5524    250 SQM\n",
       "5525    100 SQM\n",
       "5526    125 SQM\n",
       "5527     50 SQM\n",
       "Name: size, Length: 5523, dtype: object>"
      ]
     },
     "execution_count": 45,
     "metadata": {},
     "output_type": "execute_result"
    }
   ],
   "source": [
    "combined_df['size'].unique"
   ]
  },
  {
   "cell_type": "code",
   "execution_count": 46,
   "id": "d2023b13-6dfd-425e-96ac-c3e900337dbd",
   "metadata": {},
   "outputs": [
    {
     "data": {
      "text/plain": [
       "count        5361\n",
       "unique        558\n",
       "top       100 SQM\n",
       "freq          396\n",
       "Name: size, dtype: object"
      ]
     },
     "execution_count": 46,
     "metadata": {},
     "output_type": "execute_result"
    }
   ],
   "source": [
    "combined_df['size'].describe()"
   ]
  },
  {
   "cell_type": "code",
   "execution_count": 47,
   "id": "f29ba2d7-529e-4a5a-bc34-e3f33ae66196",
   "metadata": {},
   "outputs": [],
   "source": [
    "# Remove non-numeric characters (like \"SQM\", \" sqm\", etc.), then convert to numeric\n",
    "combined_df['size'] = (\n",
    "    combined_df['size']\n",
    "    .astype(str)                            # Convert to string to avoid errors\n",
    "    .str.extract(r'(\\d+\\.?\\d*)')            # Extract numeric part (integer or decimal)\n",
    "    .astype(float)                          # Convert to float\n",
    ")"
   ]
  },
  {
   "cell_type": "code",
   "execution_count": 48,
   "id": "c4a04a24-7fe9-433c-8b0f-140687c9dbef",
   "metadata": {},
   "outputs": [
    {
     "data": {
      "text/plain": [
       "<bound method Series.unique of 0         NaN\n",
       "1         NaN\n",
       "2         NaN\n",
       "3         NaN\n",
       "4         NaN\n",
       "        ...  \n",
       "5523     70.0\n",
       "5524    250.0\n",
       "5525    100.0\n",
       "5526    125.0\n",
       "5527     50.0\n",
       "Name: size, Length: 5523, dtype: float64>"
      ]
     },
     "execution_count": 48,
     "metadata": {},
     "output_type": "execute_result"
    }
   ],
   "source": [
    "combined_df['size'].unique"
   ]
  },
  {
   "cell_type": "code",
   "execution_count": 49,
   "id": "73e7640e-e96b-467b-b4f4-39fc52dfbbd6",
   "metadata": {},
   "outputs": [],
   "source": [
    "# Convert 'size' column to float if not already\n",
    "combined_df['size'] = pd.to_numeric(combined_df['size'], errors='coerce')\n",
    "\n",
    "# Fill missing 'size' values with the mean size for each property_type\n",
    "combined_df['size'] = combined_df.groupby('property_type')['size'].transform(\n",
    "    lambda x: x.fillna(x.mean())\n",
    ")"
   ]
  },
  {
   "cell_type": "code",
   "execution_count": 50,
   "id": "4371e5bf-bdd0-405b-8a9d-38b22f7b9241",
   "metadata": {},
   "outputs": [
    {
     "data": {
      "text/plain": [
       "<bound method Series.unique of 0       128.566305\n",
       "1       128.566305\n",
       "2       142.292934\n",
       "3        79.628485\n",
       "4       128.671024\n",
       "           ...    \n",
       "5523     70.000000\n",
       "5524    250.000000\n",
       "5525    100.000000\n",
       "5526    125.000000\n",
       "5527     50.000000\n",
       "Name: size, Length: 5523, dtype: float64>"
      ]
     },
     "execution_count": 50,
     "metadata": {},
     "output_type": "execute_result"
    }
   ],
   "source": [
    "combined_df['size'].unique"
   ]
  },
  {
   "cell_type": "code",
   "execution_count": 51,
   "id": "a7e9a52c-f397-4947-818a-b55173e3d82d",
   "metadata": {},
   "outputs": [
    {
     "data": {
      "image/png": "[encoded data removed]",
      "text/plain": [
       "<Figure size 1200x500 with 1 Axes>"
      ]
     },
     "metadata": {},
     "output_type": "display_data"
    },
    {
     "name": "stdout",
     "output_type": "stream",
     "text": [
      "🔻 Lower outliers replaced: 0\n",
      "🔺 Upper outliers replaced: 293\n",
      "🔁 Total outliers replaced: 293\n"
     ]
    },
    {
     "data": {
      "image/png": "[encoded data removed]",
      "text/plain": [
       "<Figure size 1200x500 with 1 Axes>"
      ]
     },
     "metadata": {},
     "output_type": "display_data"
    }
   ],
   "source": [
    "import matplotlib.pyplot as plt\n",
    "import seaborn as sns\n",
    "import pandas as pd\n",
    "\n",
    "# Set seaborn theme\n",
    "sns.set(style=\"whitegrid\")\n",
    "\n",
    "# Step 1: Boxplot BEFORE\n",
    "plt.figure(figsize=(12, 5))\n",
    "sns.boxplot(x=combined_df['size'], color='salmon')\n",
    "plt.title('Boxplot of Property Size (Before Outlier Handling)', fontsize=14, fontweight='bold')\n",
    "plt.xlabel('Size (sqm)', fontsize=12)\n",
    "plt.show()\n",
    "\n",
    "# Step 2: Calculate IQR and bounds\n",
    "Q1 = combined_df['size'].quantile(0.25)\n",
    "Q3 = combined_df['size'].quantile(0.75)\n",
    "IQR = Q3 - Q1\n",
    "lower_bound = Q1 - 1.5 * IQR\n",
    "upper_bound = Q3 + 1.5 * IQR\n",
    "\n",
    "# Step 3: Count outliers\n",
    "num_lower_outliers = (combined_df['size'] < lower_bound).sum()\n",
    "num_upper_outliers = (combined_df['size'] > upper_bound).sum()\n",
    "total_outliers = num_lower_outliers + num_upper_outliers\n",
    "\n",
    "print(f\"🔻 Lower outliers replaced: {num_lower_outliers}\")\n",
    "print(f\"🔺 Upper outliers replaced: {num_upper_outliers}\")\n",
    "print(f\"🔁 Total outliers replaced: {total_outliers}\")\n",
    "\n",
    "# Step 4: Replace outliers\n",
    "combined_df['size'] = combined_df['size'].apply(\n",
    "    lambda x: lower_bound if x < lower_bound else upper_bound if x > upper_bound else x\n",
    ")\n",
    "\n",
    "# Step 5: Boxplot AFTER\n",
    "plt.figure(figsize=(12, 5))\n",
    "sns.boxplot(x=combined_df['size'], color='mediumseagreen')\n",
    "plt.title('Boxplot of Property Size (After Outlier Handling)', fontsize=14, fontweight='bold')\n",
    "plt.xlabel('Size (sqm)', fontsize=12)\n",
    "plt.show()\n"
   ]
  },
  {
   "cell_type": "code",
   "execution_count": 52,
   "id": "97e2d047-d6ec-4821-965e-47a462aba420",
   "metadata": {},
   "outputs": [
    {
     "data": {
      "text/plain": [
       "property_title            object\n",
       "location                  object\n",
       "number_of_rooms           object\n",
       "price                     object\n",
       "size                     float64\n",
       "property_type             object\n",
       "property_type_encoded      int64\n",
       "location_clean            object\n",
       "location_encoded           int64\n",
       "number_of_rooms_clean    float64\n",
       "dtype: object"
      ]
     },
     "execution_count": 52,
     "metadata": {},
     "output_type": "execute_result"
    }
   ],
   "source": [
    "combined_df.dtypes"
   ]
  },
  {
   "cell_type": "markdown",
   "id": "e9b01286-d14f-478d-a9d0-6d5ce707efab",
   "metadata": {},
   "source": [
    "## Price"
   ]
  },
  {
   "cell_type": "code",
   "execution_count": 53,
   "id": "29cd7ee7-2df2-4981-b7b9-10171f57fd06",
   "metadata": {},
   "outputs": [
    {
     "data": {
      "text/plain": [
       "0         OMR300\n",
       "1         OMR500\n",
       "2       OMR1,500\n",
       "3         OMR370\n",
       "4           OMR4\n",
       "          ...   \n",
       "5523     OMR 110\n",
       "5524     OMR 115\n",
       "5525     OMR 100\n",
       "5526     OMR 425\n",
       "5527     OMR 120\n",
       "Name: price, Length: 5523, dtype: object"
      ]
     },
     "execution_count": 53,
     "metadata": {},
     "output_type": "execute_result"
    }
   ],
   "source": [
    "combined_df['price']"
   ]
  },
  {
   "cell_type": "code",
   "execution_count": 54,
   "id": "49b3ffc8-2ed9-4d6d-b763-56cc5f661ae4",
   "metadata": {},
   "outputs": [],
   "source": [
    "import numpy as np\n",
    "import pandas as pd\n",
    "import matplotlib.pyplot as plt\n",
    "\n",
    "# Step 1: Clean the price column — convert to numeric after removing 'OMR' and commas\n",
    "combined_df['price_clean'] = (\n",
    "    combined_df['price']\n",
    "    .astype(str)  # Convert all values to string first\n",
    "    .str.replace('OMR', '', regex=False)\n",
    "    .str.replace(',', '', regex=False)\n",
    "    .str.strip()\n",
    ")\n",
    "\n",
    "combined_df['price_clean'] = pd.to_numeric(combined_df['price_clean'], errors='coerce')\n",
    "\n",
    "# Step 2: Remove zero or negative prices\n",
    "positive_price_df = combined_df[combined_df['price_clean'] > 0].copy()"
   ]
  },
  {
   "cell_type": "code",
   "execution_count": 55,
   "id": "ca5afa18-d3df-42e5-ac15-d693d7bf2489",
   "metadata": {},
   "outputs": [
    {
     "data": {
      "text/plain": [
       "0         OMR300\n",
       "1         OMR500\n",
       "2       OMR1,500\n",
       "3         OMR370\n",
       "4           OMR4\n",
       "          ...   \n",
       "5523     OMR 110\n",
       "5524     OMR 115\n",
       "5525     OMR 100\n",
       "5526     OMR 425\n",
       "5527     OMR 120\n",
       "Name: price, Length: 5523, dtype: object"
      ]
     },
     "execution_count": 55,
     "metadata": {},
     "output_type": "execute_result"
    }
   ],
   "source": [
    "combined_df['price']"
   ]
  },
  {
   "cell_type": "code",
   "execution_count": 56,
   "id": "cf5233d8-f5a8-4532-b53e-1c8b3ef3bb38",
   "metadata": {},
   "outputs": [
    {
     "data": {
      "text/plain": [
       "count       5499\n",
       "unique       448\n",
       "top       OMR 50\n",
       "freq         384\n",
       "Name: price, dtype: object"
      ]
     },
     "execution_count": 56,
     "metadata": {},
     "output_type": "execute_result"
    }
   ],
   "source": [
    "combined_df['price'].describe()"
   ]
  },
  {
   "cell_type": "code",
   "execution_count": 57,
   "id": "009d5e8b-92bf-47cf-b644-245fa647508e",
   "metadata": {},
   "outputs": [
    {
     "name": "stdout",
     "output_type": "stream",
     "text": [
      "Number of null values in 'price': 24\n"
     ]
    }
   ],
   "source": [
    "null_count = combined_df['price'].isnull().sum()\n",
    "print(f\"Number of null values in 'price': {null_count}\")"
   ]
  },
  {
   "cell_type": "code",
   "execution_count": 58,
   "id": "b936e5f6-20e4-4ab6-8144-ce4bcdf53f47",
   "metadata": {},
   "outputs": [],
   "source": [
    "combined_df = combined_df.dropna(subset=['price'])"
   ]
  },
  {
   "cell_type": "code",
   "execution_count": 59,
   "id": "cc971f72-f454-4f26-9555-0443f5b32806",
   "metadata": {},
   "outputs": [
    {
     "data": {
      "text/plain": [
       "(5499, 11)"
      ]
     },
     "execution_count": 59,
     "metadata": {},
     "output_type": "execute_result"
    }
   ],
   "source": [
    "combined_df.shape"
   ]
  },
  {
   "cell_type": "code",
   "execution_count": 60,
   "id": "7288f125-6f27-4220-8c06-82c8329eabbb",
   "metadata": {
    "scrolled": true
   },
   "outputs": [
    {
     "data": {
      "text/plain": [
       "property_title            object\n",
       "location                  object\n",
       "number_of_rooms           object\n",
       "price                     object\n",
       "size                     float64\n",
       "property_type             object\n",
       "property_type_encoded      int64\n",
       "location_clean            object\n",
       "location_encoded           int64\n",
       "number_of_rooms_clean    float64\n",
       "price_clean              float64\n",
       "dtype: object"
      ]
     },
     "execution_count": 60,
     "metadata": {},
     "output_type": "execute_result"
    }
   ],
   "source": [
    "combined_df.dtypes"
   ]
  },
  {
   "cell_type": "code",
   "execution_count": 61,
   "id": "985f0ed4-e5a2-4c85-aab5-654417009354",
   "metadata": {},
   "outputs": [],
   "source": [
    "combined_df.to_csv('cleaned_properties.csv', index=False, encoding='utf-8-sig')"
   ]
  },
  {
   "cell_type": "code",
   "execution_count": 62,
   "id": "9a737bb4-a942-440a-b469-49c509df9de8",
   "metadata": {},
   "outputs": [],
   "source": [
    "from sklearn.preprocessing import LabelEncoder\n",
    "lb = LabelEncoder()\n",
    "\n",
    "objList = combined_df.select_dtypes(include = \"object\").columns\n",
    "\n",
    "for obj in objList:\n",
    "    combined_df[obj] = lb.fit_transform(combined_df[obj].astype(str))"
   ]
  },
  {
   "cell_type": "code",
   "execution_count": 63,
   "id": "1ed319f4-aec6-4284-a5b2-589f29fe050c",
   "metadata": {},
   "outputs": [],
   "source": [
    "import numpy as np\n",
    "\n",
    "# Create new features based on existing ones\n",
    "\n",
    "# Size per room (avoid division by zero by adding a small number)\n",
    "combined_df['size_per_room'] = combined_df['size'] / (combined_df['number_of_rooms_clean'] + 1e-5)\n",
    "\n",
    "# Log-transform size and number of rooms (to reduce skewness)\n",
    "combined_df['log_size'] = np.log1p(combined_df['size'])\n",
    "combined_df['log_rooms'] = np.log1p(combined_df['number_of_rooms_clean'])\n",
    "\n",
    "# Polynomial features for size and rooms\n",
    "combined_df['size_squared'] = combined_df['size'] ** 2\n",
    "combined_df['rooms_squared'] = combined_df['number_of_rooms_clean'] ** 2\n",
    "combined_df['size_x_rooms'] = combined_df['size'] * combined_df['number_of_rooms_clean']"
   ]
  },
  {
   "cell_type": "code",
   "execution_count": 64,
   "id": "d6db1f4c-df0b-4052-9579-9d5bc10fd29e",
   "metadata": {
    "scrolled": true
   },
   "outputs": [
    {
     "data": {
      "text/plain": [
       "property_title             int64\n",
       "location                   int64\n",
       "number_of_rooms            int64\n",
       "price                      int64\n",
       "size                     float64\n",
       "property_type              int64\n",
       "property_type_encoded      int64\n",
       "location_clean             int64\n",
       "location_encoded           int64\n",
       "number_of_rooms_clean    float64\n",
       "price_clean              float64\n",
       "size_per_room            float64\n",
       "log_size                 float64\n",
       "log_rooms                float64\n",
       "size_squared             float64\n",
       "rooms_squared            float64\n",
       "size_x_rooms             float64\n",
       "dtype: object"
      ]
     },
     "execution_count": 64,
     "metadata": {},
     "output_type": "execute_result"
    }
   ],
   "source": [
    "combined_df.dtypes"
   ]
  },
  {
   "cell_type": "code",
   "execution_count": 65,
   "id": "e0476374-e54d-43d7-b364-aca88e113bdb",
   "metadata": {},
   "outputs": [
    {
     "data": {
      "text/html": [
       "<div>\n",
       "<style scoped>\n",
       "    .dataframe tbody tr th:only-of-type {\n",
       "        vertical-align: middle;\n",
       "    }\n",
       "\n",
       "    .dataframe tbody tr th {\n",
       "        vertical-align: top;\n",
       "    }\n",
       "\n",
       "    .dataframe thead th {\n",
       "        text-align: right;\n",
       "    }\n",
       "</style>\n",
       "<table border=\"1\" class=\"dataframe\">\n",
       "  <thead>\n",
       "    <tr style=\"text-align: right;\">\n",
       "      <th></th>\n",
       "      <th>property_title</th>\n",
       "      <th>location</th>\n",
       "      <th>number_of_rooms</th>\n",
       "      <th>price</th>\n",
       "      <th>size</th>\n",
       "      <th>property_type</th>\n",
       "      <th>property_type_encoded</th>\n",
       "      <th>location_clean</th>\n",
       "      <th>location_encoded</th>\n",
       "      <th>number_of_rooms_clean</th>\n",
       "      <th>price_clean</th>\n",
       "      <th>size_per_room</th>\n",
       "      <th>log_size</th>\n",
       "      <th>log_rooms</th>\n",
       "      <th>size_squared</th>\n",
       "      <th>rooms_squared</th>\n",
       "      <th>size_x_rooms</th>\n",
       "    </tr>\n",
       "  </thead>\n",
       "  <tbody>\n",
       "    <tr>\n",
       "      <th>0</th>\n",
       "      <td>384</td>\n",
       "      <td>3</td>\n",
       "      <td>8</td>\n",
       "      <td>415</td>\n",
       "      <td>128.566305</td>\n",
       "      <td>0</td>\n",
       "      <td>0</td>\n",
       "      <td>2</td>\n",
       "      <td>2</td>\n",
       "      <td>2.0</td>\n",
       "      <td>300.0</td>\n",
       "      <td>64.282831</td>\n",
       "      <td>4.864193</td>\n",
       "      <td>1.098612</td>\n",
       "      <td>16529.294725</td>\n",
       "      <td>4.0</td>\n",
       "      <td>257.132610</td>\n",
       "    </tr>\n",
       "    <tr>\n",
       "      <th>1</th>\n",
       "      <td>384</td>\n",
       "      <td>88</td>\n",
       "      <td>8</td>\n",
       "      <td>431</td>\n",
       "      <td>128.566305</td>\n",
       "      <td>0</td>\n",
       "      <td>0</td>\n",
       "      <td>68</td>\n",
       "      <td>68</td>\n",
       "      <td>2.0</td>\n",
       "      <td>500.0</td>\n",
       "      <td>64.282831</td>\n",
       "      <td>4.864193</td>\n",
       "      <td>1.098612</td>\n",
       "      <td>16529.294725</td>\n",
       "      <td>4.0</td>\n",
       "      <td>257.132610</td>\n",
       "    </tr>\n",
       "    <tr>\n",
       "      <th>2</th>\n",
       "      <td>632</td>\n",
       "      <td>58</td>\n",
       "      <td>15</td>\n",
       "      <td>389</td>\n",
       "      <td>142.292934</td>\n",
       "      <td>9</td>\n",
       "      <td>9</td>\n",
       "      <td>43</td>\n",
       "      <td>43</td>\n",
       "      <td>4.0</td>\n",
       "      <td>1500.0</td>\n",
       "      <td>35.573145</td>\n",
       "      <td>4.964891</td>\n",
       "      <td>1.609438</td>\n",
       "      <td>20247.279130</td>\n",
       "      <td>16.0</td>\n",
       "      <td>569.171737</td>\n",
       "    </tr>\n",
       "    <tr>\n",
       "      <th>3</th>\n",
       "      <td>1343</td>\n",
       "      <td>45</td>\n",
       "      <td>14</td>\n",
       "      <td>422</td>\n",
       "      <td>79.628485</td>\n",
       "      <td>11</td>\n",
       "      <td>11</td>\n",
       "      <td>34</td>\n",
       "      <td>34</td>\n",
       "      <td>6.0</td>\n",
       "      <td>370.0</td>\n",
       "      <td>13.271392</td>\n",
       "      <td>4.389852</td>\n",
       "      <td>1.945910</td>\n",
       "      <td>6340.695599</td>\n",
       "      <td>36.0</td>\n",
       "      <td>477.770909</td>\n",
       "    </tr>\n",
       "    <tr>\n",
       "      <th>4</th>\n",
       "      <td>1336</td>\n",
       "      <td>39</td>\n",
       "      <td>8</td>\n",
       "      <td>425</td>\n",
       "      <td>128.671024</td>\n",
       "      <td>2</td>\n",
       "      <td>2</td>\n",
       "      <td>32</td>\n",
       "      <td>32</td>\n",
       "      <td>2.0</td>\n",
       "      <td>4.0</td>\n",
       "      <td>64.335191</td>\n",
       "      <td>4.865001</td>\n",
       "      <td>1.098612</td>\n",
       "      <td>16556.232518</td>\n",
       "      <td>4.0</td>\n",
       "      <td>257.342049</td>\n",
       "    </tr>\n",
       "    <tr>\n",
       "      <th>...</th>\n",
       "      <td>...</td>\n",
       "      <td>...</td>\n",
       "      <td>...</td>\n",
       "      <td>...</td>\n",
       "      <td>...</td>\n",
       "      <td>...</td>\n",
       "      <td>...</td>\n",
       "      <td>...</td>\n",
       "      <td>...</td>\n",
       "      <td>...</td>\n",
       "      <td>...</td>\n",
       "      <td>...</td>\n",
       "      <td>...</td>\n",
       "      <td>...</td>\n",
       "      <td>...</td>\n",
       "      <td>...</td>\n",
       "      <td>...</td>\n",
       "    </tr>\n",
       "    <tr>\n",
       "      <th>5523</th>\n",
       "      <td>2654</td>\n",
       "      <td>29</td>\n",
       "      <td>1</td>\n",
       "      <td>78</td>\n",
       "      <td>70.000000</td>\n",
       "      <td>9</td>\n",
       "      <td>9</td>\n",
       "      <td>66</td>\n",
       "      <td>66</td>\n",
       "      <td>1.0</td>\n",
       "      <td>110.0</td>\n",
       "      <td>69.999300</td>\n",
       "      <td>4.262680</td>\n",
       "      <td>0.693147</td>\n",
       "      <td>4900.000000</td>\n",
       "      <td>1.0</td>\n",
       "      <td>70.000000</td>\n",
       "    </tr>\n",
       "    <tr>\n",
       "      <th>5524</th>\n",
       "      <td>2530</td>\n",
       "      <td>9</td>\n",
       "      <td>11</td>\n",
       "      <td>80</td>\n",
       "      <td>250.000000</td>\n",
       "      <td>9</td>\n",
       "      <td>9</td>\n",
       "      <td>7</td>\n",
       "      <td>7</td>\n",
       "      <td>3.0</td>\n",
       "      <td>115.0</td>\n",
       "      <td>83.333056</td>\n",
       "      <td>5.525453</td>\n",
       "      <td>1.386294</td>\n",
       "      <td>62500.000000</td>\n",
       "      <td>9.0</td>\n",
       "      <td>750.000000</td>\n",
       "    </tr>\n",
       "    <tr>\n",
       "      <th>5525</th>\n",
       "      <td>2687</td>\n",
       "      <td>9</td>\n",
       "      <td>1</td>\n",
       "      <td>73</td>\n",
       "      <td>100.000000</td>\n",
       "      <td>9</td>\n",
       "      <td>9</td>\n",
       "      <td>7</td>\n",
       "      <td>7</td>\n",
       "      <td>1.0</td>\n",
       "      <td>100.0</td>\n",
       "      <td>99.999000</td>\n",
       "      <td>4.615121</td>\n",
       "      <td>0.693147</td>\n",
       "      <td>10000.000000</td>\n",
       "      <td>1.0</td>\n",
       "      <td>100.000000</td>\n",
       "    </tr>\n",
       "    <tr>\n",
       "      <th>5526</th>\n",
       "      <td>302</td>\n",
       "      <td>57</td>\n",
       "      <td>8</td>\n",
       "      <td>244</td>\n",
       "      <td>125.000000</td>\n",
       "      <td>9</td>\n",
       "      <td>9</td>\n",
       "      <td>44</td>\n",
       "      <td>44</td>\n",
       "      <td>2.0</td>\n",
       "      <td>425.0</td>\n",
       "      <td>62.499688</td>\n",
       "      <td>4.836282</td>\n",
       "      <td>1.098612</td>\n",
       "      <td>15625.000000</td>\n",
       "      <td>4.0</td>\n",
       "      <td>250.000000</td>\n",
       "    </tr>\n",
       "    <tr>\n",
       "      <th>5527</th>\n",
       "      <td>2913</td>\n",
       "      <td>9</td>\n",
       "      <td>1</td>\n",
       "      <td>83</td>\n",
       "      <td>50.000000</td>\n",
       "      <td>9</td>\n",
       "      <td>9</td>\n",
       "      <td>7</td>\n",
       "      <td>7</td>\n",
       "      <td>1.0</td>\n",
       "      <td>120.0</td>\n",
       "      <td>49.999500</td>\n",
       "      <td>3.931826</td>\n",
       "      <td>0.693147</td>\n",
       "      <td>2500.000000</td>\n",
       "      <td>1.0</td>\n",
       "      <td>50.000000</td>\n",
       "    </tr>\n",
       "  </tbody>\n",
       "</table>\n",
       "<p>5499 rows × 17 columns</p>\n",
       "</div>"
      ],
      "text/plain": [
       "      property_title  location  number_of_rooms  price        size  \\\n",
       "0                384         3                8    415  128.566305   \n",
       "1                384        88                8    431  128.566305   \n",
       "2                632        58               15    389  142.292934   \n",
       "3               1343        45               14    422   79.628485   \n",
       "4               1336        39                8    425  128.671024   \n",
       "...              ...       ...              ...    ...         ...   \n",
       "5523            2654        29                1     78   70.000000   \n",
       "5524            2530         9               11     80  250.000000   \n",
       "5525            2687         9                1     73  100.000000   \n",
       "5526             302        57                8    244  125.000000   \n",
       "5527            2913         9                1     83   50.000000   \n",
       "\n",
       "      property_type  property_type_encoded  location_clean  location_encoded  \\\n",
       "0                 0                      0               2                 2   \n",
       "1                 0                      0              68                68   \n",
       "2                 9                      9              43                43   \n",
       "3                11                     11              34                34   \n",
       "4                 2                      2              32                32   \n",
       "...             ...                    ...             ...               ...   \n",
       "5523              9                      9              66                66   \n",
       "5524              9                      9               7                 7   \n",
       "5525              9                      9               7                 7   \n",
       "5526              9                      9              44                44   \n",
       "5527              9                      9               7                 7   \n",
       "\n",
       "      number_of_rooms_clean  price_clean  size_per_room  log_size  log_rooms  \\\n",
       "0                       2.0        300.0      64.282831  4.864193   1.098612   \n",
       "1                       2.0        500.0      64.282831  4.864193   1.098612   \n",
       "2                       4.0       1500.0      35.573145  4.964891   1.609438   \n",
       "3                       6.0        370.0      13.271392  4.389852   1.945910   \n",
       "4                       2.0          4.0      64.335191  4.865001   1.098612   \n",
       "...                     ...          ...            ...       ...        ...   \n",
       "5523                    1.0        110.0      69.999300  4.262680   0.693147   \n",
       "5524                    3.0        115.0      83.333056  5.525453   1.386294   \n",
       "5525                    1.0        100.0      99.999000  4.615121   0.693147   \n",
       "5526                    2.0        425.0      62.499688  4.836282   1.098612   \n",
       "5527                    1.0        120.0      49.999500  3.931826   0.693147   \n",
       "\n",
       "      size_squared  rooms_squared  size_x_rooms  \n",
       "0     16529.294725            4.0    257.132610  \n",
       "1     16529.294725            4.0    257.132610  \n",
       "2     20247.279130           16.0    569.171737  \n",
       "3      6340.695599           36.0    477.770909  \n",
       "4     16556.232518            4.0    257.342049  \n",
       "...            ...            ...           ...  \n",
       "5523   4900.000000            1.0     70.000000  \n",
       "5524  62500.000000            9.0    750.000000  \n",
       "5525  10000.000000            1.0    100.000000  \n",
       "5526  15625.000000            4.0    250.000000  \n",
       "5527   2500.000000            1.0     50.000000  \n",
       "\n",
       "[5499 rows x 17 columns]"
      ]
     },
     "execution_count": 65,
     "metadata": {},
     "output_type": "execute_result"
    }
   ],
   "source": [
    "combined_df"
   ]
  },
  {
   "cell_type": "code",
   "execution_count": 66,
   "id": "00f39b07-123b-4806-b5cc-1a6d7ce89544",
   "metadata": {},
   "outputs": [
    {
     "data": {
      "text/plain": [
       "property_title           0\n",
       "location                 0\n",
       "number_of_rooms          0\n",
       "price                    0\n",
       "size                     0\n",
       "property_type            0\n",
       "property_type_encoded    0\n",
       "location_clean           0\n",
       "location_encoded         0\n",
       "number_of_rooms_clean    0\n",
       "price_clean              0\n",
       "size_per_room            0\n",
       "log_size                 0\n",
       "log_rooms                0\n",
       "size_squared             0\n",
       "rooms_squared            0\n",
       "size_x_rooms             0\n",
       "dtype: int64"
      ]
     },
     "execution_count": 66,
     "metadata": {},
     "output_type": "execute_result"
    }
   ],
   "source": [
    "# Count nulls in each column\n",
    "combined_df.isnull().sum()"
   ]
  },
  {
   "cell_type": "code",
   "execution_count": 67,
   "id": "a7f45f55-66e4-409e-9a9e-b11765063c2f",
   "metadata": {},
   "outputs": [
    {
     "data": {
      "text/plain": [
       "np.int64(396)"
      ]
     },
     "execution_count": 67,
     "metadata": {},
     "output_type": "execute_result"
    }
   ],
   "source": [
    "combined_df.duplicated().sum()\n"
   ]
  },
  {
   "cell_type": "code",
   "execution_count": 68,
   "id": "40d25d43-4939-456b-8960-65ecff164d8c",
   "metadata": {},
   "outputs": [],
   "source": [
    "combined_df = combined_df.drop_duplicates().reset_index(drop=True)"
   ]
  },
  {
   "cell_type": "code",
   "execution_count": 69,
   "id": "06c18c9b-124b-4bc0-97e8-8e91e48f13ad",
   "metadata": {},
   "outputs": [
    {
     "data": {
      "text/plain": [
       "(5103, 17)"
      ]
     },
     "execution_count": 69,
     "metadata": {},
     "output_type": "execute_result"
    }
   ],
   "source": [
    "combined_df.shape"
   ]
  },
  {
   "cell_type": "code",
   "execution_count": 70,
   "id": "f2c34899-656f-4f51-a764-6f5fcdacba46",
   "metadata": {},
   "outputs": [],
   "source": [
    "combined_df.to_csv('last_version.csv', index=False)"
   ]
  },
  {
   "cell_type": "code",
   "execution_count": 72,
   "id": "7274efb1-fba5-40ef-a14b-59691bf0a9b9",
   "metadata": {},
   "outputs": [
    {
     "data": {
      "text/plain": [
       "Index(['property_title', 'location', 'number_of_rooms', 'price', 'size',\n",
       "       'property_type', 'property_type_encoded', 'location_clean',\n",
       "       'location_encoded', 'number_of_rooms_clean', 'price_clean',\n",
       "       'size_per_room', 'log_size', 'log_rooms', 'size_squared',\n",
       "       'rooms_squared', 'size_x_rooms'],\n",
       "      dtype='object')"
      ]
     },
     "execution_count": 72,
     "metadata": {},
     "output_type": "execute_result"
    }
   ],
   "source": [
    "combined_df.columns"
   ]
  },
  {
   "cell_type": "code",
   "execution_count": null,
   "id": "61193ba1-6998-4c1e-904f-b882bb333af1",
   "metadata": {},
   "outputs": [],
   "source": []
  }
 ],
 "metadata": {
  "kernelspec": {
   "display_name": "Python [conda env:base] *",
   "language": "python",
   "name": "conda-base-py"
  },
  "language_info": {
   "codemirror_mode": {
    "name": "ipython",
    "version": 3
   },
   "file_extension": ".py",
   "mimetype": "text/x-python",
   "name": "python",
   "nbconvert_exporter": "python",
   "pygments_lexer": "ipython3",
   "version": "3.13.5"
  }
 },
 "nbformat": 4,
 "nbformat_minor": 5
}
