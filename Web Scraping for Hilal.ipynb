{
 "cells": [
  {
   "cell_type": "markdown",
   "id": "b737cda7-1e10-4484-a257-6a4cbf067497",
   "metadata": {},
   "source": [
    "### Import Required Libraries"
   ]
  },
  {
   "cell_type": "code",
   "execution_count": 1,
   "id": "2e697576-8dff-42b3-b65c-3a58d92b7daf",
   "metadata": {},
   "outputs": [],
   "source": [
    "import requests\n",
    "from bs4 import BeautifulSoup\n",
    "import pandas as pd\n",
    "import time"
   ]
  },
  {
   "cell_type": "markdown",
   "id": "2ced02b0-db85-4f0e-8de9-23f8e9200aaa",
   "metadata": {},
   "source": [
    "### Scraping Loop"
   ]
  },
  {
   "cell_type": "code",
   "execution_count": 2,
   "id": "839c725c-6e48-43db-b1cb-479e9cf9bff0",
   "metadata": {},
   "outputs": [
    {
     "name": "stdout",
     "output_type": "stream",
     "text": [
      "Fetching page 1: https://hilalprp.com.om/properties-search/page/1/?status=for-rent\n",
      "10 listings found on page 1\n",
      "Fetching page 2: https://hilalprp.com.om/properties-search/page/2/?status=for-rent\n",
      "10 listings found on page 2\n",
      "Fetching page 3: https://hilalprp.com.om/properties-search/page/3/?status=for-rent\n",
      "10 listings found on page 3\n",
      "Fetching page 4: https://hilalprp.com.om/properties-search/page/4/?status=for-rent\n",
      "10 listings found on page 4\n",
      "Fetching page 5: https://hilalprp.com.om/properties-search/page/5/?status=for-rent\n",
      "10 listings found on page 5\n",
      "Fetching page 6: https://hilalprp.com.om/properties-search/page/6/?status=for-rent\n",
      "10 listings found on page 6\n",
      "Fetching page 7: https://hilalprp.com.om/properties-search/page/7/?status=for-rent\n",
      "10 listings found on page 7\n",
      "Fetching page 8: https://hilalprp.com.om/properties-search/page/8/?status=for-rent\n",
      "10 listings found on page 8\n",
      "Fetching page 9: https://hilalprp.com.om/properties-search/page/9/?status=for-rent\n",
      "10 listings found on page 9\n",
      "Fetching page 10: https://hilalprp.com.om/properties-search/page/10/?status=for-rent\n",
      "10 listings found on page 10\n",
      "Fetching page 11: https://hilalprp.com.om/properties-search/page/11/?status=for-rent\n",
      "10 listings found on page 11\n",
      "Fetching page 12: https://hilalprp.com.om/properties-search/page/12/?status=for-rent\n",
      "10 listings found on page 12\n",
      "Fetching page 13: https://hilalprp.com.om/properties-search/page/13/?status=for-rent\n",
      "10 listings found on page 13\n",
      "Fetching page 14: https://hilalprp.com.om/properties-search/page/14/?status=for-rent\n",
      "10 listings found on page 14\n",
      "Fetching page 15: https://hilalprp.com.om/properties-search/page/15/?status=for-rent\n",
      "10 listings found on page 15\n",
      "Fetching page 16: https://hilalprp.com.om/properties-search/page/16/?status=for-rent\n",
      "10 listings found on page 16\n",
      "Fetching page 17: https://hilalprp.com.om/properties-search/page/17/?status=for-rent\n",
      "10 listings found on page 17\n",
      "Fetching page 18: https://hilalprp.com.om/properties-search/page/18/?status=for-rent\n",
      "3 listings found on page 18\n",
      "Reached the maximum number of pages.\n",
      "Scraping complete.\n"
     ]
    }
   ],
   "source": [
    "# Base URL and pagination setup\n",
    "BASE_URL = \"https://hilalprp.com.om\"\n",
    "URL_TEMPLATE = BASE_URL + \"/properties-search/page/{}/?status=for-rent\"\n",
    "MAX_PAGES = 18\n",
    "\n",
    "# Data storage structure\n",
    "hilal_data = {\n",
    "    'property_title': [],\n",
    "    'location': [],\n",
    "    'number_of_rooms': [],\n",
    "    'price': [],\n",
    "    'size': []\n",
    "}\n",
    "\n",
    "locations_list = []\n",
    "current_page = 1\n",
    "\n",
    "# Start scraping\n",
    "while True:\n",
    "    url = URL_TEMPLATE.format(current_page)\n",
    "    print(f\"Fetching page {current_page}: {url}\")\n",
    "\n",
    "    try:\n",
    "        response = requests.get(url, headers={\n",
    "            'User-Agent': 'Mozilla/5.0 (Windows NT 10.0; Win64; x64) AppleWebKit/537.36 (KHTML, like Gecko) Chrome/120.0.0.0 Safari/537.36'\n",
    "        })\n",
    "        response.raise_for_status()\n",
    "    except requests.exceptions.RequestException as e:\n",
    "        print(f\"Failed to fetch page {current_page}: {e}\")\n",
    "        break\n",
    "\n",
    "    soup = BeautifulSoup(response.content, 'html.parser')\n",
    "    listings = soup.find_all('article', class_='rh_list_card')\n",
    "\n",
    "    if not listings:\n",
    "        print(f\"No listings found on page {current_page}. Stopping.\")\n",
    "        break\n",
    "\n",
    "    print(f\"{len(listings)} listings found on page {current_page}\")\n",
    "\n",
    "    for listing in listings:\n",
    "        # Extract property title\n",
    "        title_tag = listing.find(\"h3\")\n",
    "        title = title_tag.get_text(strip=True) if title_tag else None\n",
    "\n",
    "        # Extract price\n",
    "        price_tag = listing.find('p', class_='price')\n",
    "        price = price_tag.text.strip() if price_tag else None\n",
    "\n",
    "        # Extract figures: rooms and possibly size\n",
    "        figure_tags = listing.find_all('span', class_='figure')\n",
    "\n",
    "        # Number of rooms is usually the first span.figure\n",
    "        number_of_rooms = figure_tags[0].text.strip() if len(figure_tags) >= 1 else None\n",
    "\n",
    "        # Extract property size (associated with \"sqmt\" label)\n",
    "        size = None\n",
    "        for fig in figure_tags:\n",
    "            label_tag = fig.find_next_sibling('span', class_='label')\n",
    "            if label_tag and 'sqmt' in label_tag.text.lower():\n",
    "                size = fig.text.strip()\n",
    "                break\n",
    "\n",
    "        # Append values to the main data dictionary\n",
    "        hilal_data['property_title'].append(title)\n",
    "        hilal_data['number_of_rooms'].append(number_of_rooms)\n",
    "        hilal_data['price'].append(price)\n",
    "        hilal_data['size'].append(size)\n",
    "\n",
    "        # Extract detail page URL to retrieve location\n",
    "        link_tag = listing.find('a', href=True)\n",
    "        listing_url = link_tag['href'] if link_tag else None\n",
    "\n",
    "        if listing_url:\n",
    "            full_url = listing_url if listing_url.startswith(\"http\") else BASE_URL + listing_url\n",
    "            try:\n",
    "                detail_res = requests.get(full_url, headers={\n",
    "                    'User-Agent': 'Mozilla/5.0 (Windows NT 10.0; Win64; x64) AppleWebKit/537.36 (KHTML, like Gecko) Chrome/120.0.0.0 Safari/537.36'\n",
    "                })\n",
    "                detail_res.raise_for_status()\n",
    "                detail_soup = BeautifulSoup(detail_res.content, 'html.parser')\n",
    "                location_tag = detail_soup.find('a', href=lambda href: href and '/property-city/' in href)\n",
    "                location = location_tag.text.strip() if location_tag else None\n",
    "            except:\n",
    "                location = None\n",
    "        else:\n",
    "            location = None\n",
    "\n",
    "        locations_list.append(location)\n",
    "\n",
    "    current_page += 1\n",
    "    if current_page > MAX_PAGES:\n",
    "        print(\"Reached the maximum number of pages.\")\n",
    "        break\n",
    "\n",
    "    time.sleep(1)\n",
    "\n",
    "print(\"Scraping complete.\")\n",
    "\n",
    "# Assign the collected locations to the main data dictionary\n",
    "hilal_data['location'] = locations_list"
   ]
  },
  {
   "cell_type": "code",
   "execution_count": 3,
   "id": "2e1e6ccd-15eb-4426-8111-3e6460332bd8",
   "metadata": {},
   "outputs": [
    {
     "data": {
      "text/html": [
       "<div>\n",
       "<style scoped>\n",
       "    .dataframe tbody tr th:only-of-type {\n",
       "        vertical-align: middle;\n",
       "    }\n",
       "\n",
       "    .dataframe tbody tr th {\n",
       "        vertical-align: top;\n",
       "    }\n",
       "\n",
       "    .dataframe thead th {\n",
       "        text-align: right;\n",
       "    }\n",
       "</style>\n",
       "<table border=\"1\" class=\"dataframe\">\n",
       "  <thead>\n",
       "    <tr style=\"text-align: right;\">\n",
       "      <th></th>\n",
       "      <th>property_title</th>\n",
       "      <th>location</th>\n",
       "      <th>number_of_rooms</th>\n",
       "      <th>price</th>\n",
       "      <th>size</th>\n",
       "    </tr>\n",
       "  </thead>\n",
       "  <tbody>\n",
       "    <tr>\n",
       "      <th>0</th>\n",
       "      <td>2-BEDROOM APARTMENT</td>\n",
       "      <td>Al Ansab</td>\n",
       "      <td>2</td>\n",
       "      <td>OMR300</td>\n",
       "      <td>None</td>\n",
       "    </tr>\n",
       "    <tr>\n",
       "      <th>1</th>\n",
       "      <td>2-BEDROOM APARTMENT</td>\n",
       "      <td>Shatti Al Qurum</td>\n",
       "      <td>2</td>\n",
       "      <td>OMR500</td>\n",
       "      <td>None</td>\n",
       "    </tr>\n",
       "    <tr>\n",
       "      <th>2</th>\n",
       "      <td>4+1 BEDROOM TWIN VILLA</td>\n",
       "      <td>Madinat Qaboos (MQ)</td>\n",
       "      <td>4</td>\n",
       "      <td>OMR1,500</td>\n",
       "      <td>None</td>\n",
       "    </tr>\n",
       "    <tr>\n",
       "      <th>3</th>\n",
       "      <td>COMMERCIAL SHOP</td>\n",
       "      <td>Ghala</td>\n",
       "      <td>39</td>\n",
       "      <td>OMR370</td>\n",
       "      <td>None</td>\n",
       "    </tr>\n",
       "    <tr>\n",
       "      <th>4</th>\n",
       "      <td>COMMERCIAL OFFICE SPACE</td>\n",
       "      <td>Bausher</td>\n",
       "      <td>2</td>\n",
       "      <td>OMR4</td>\n",
       "      <td>None</td>\n",
       "    </tr>\n",
       "    <tr>\n",
       "      <th>5</th>\n",
       "      <td>2, 3 &amp; 4-BEDROOM COMPOUND VILLAS</td>\n",
       "      <td>Rusayl</td>\n",
       "      <td>2,3,4</td>\n",
       "      <td>OMR650</td>\n",
       "      <td>None</td>\n",
       "    </tr>\n",
       "    <tr>\n",
       "      <th>6</th>\n",
       "      <td>COMMERCIAL SPACE</td>\n",
       "      <td>Shatti Al Qurum</td>\n",
       "      <td>None</td>\n",
       "      <td>OMR6</td>\n",
       "      <td>None</td>\n",
       "    </tr>\n",
       "    <tr>\n",
       "      <th>7</th>\n",
       "      <td>6+1 BEDROOM TWIN VILLA</td>\n",
       "      <td>Bausher</td>\n",
       "      <td>6</td>\n",
       "      <td>OMR1,000</td>\n",
       "      <td>None</td>\n",
       "    </tr>\n",
       "    <tr>\n",
       "      <th>8</th>\n",
       "      <td>5+1 BEDROOM TWIN VILLA</td>\n",
       "      <td>Al Ansab</td>\n",
       "      <td>5</td>\n",
       "      <td>OMR750</td>\n",
       "      <td>None</td>\n",
       "    </tr>\n",
       "    <tr>\n",
       "      <th>9</th>\n",
       "      <td>RETAIL SPACES</td>\n",
       "      <td>Al Khuwair</td>\n",
       "      <td>None</td>\n",
       "      <td>OMR7</td>\n",
       "      <td>None</td>\n",
       "    </tr>\n",
       "  </tbody>\n",
       "</table>\n",
       "</div>"
      ],
      "text/plain": [
       "                     property_title             location number_of_rooms  \\\n",
       "0               2-BEDROOM APARTMENT             Al Ansab               2   \n",
       "1               2-BEDROOM APARTMENT      Shatti Al Qurum               2   \n",
       "2            4+1 BEDROOM TWIN VILLA  Madinat Qaboos (MQ)               4   \n",
       "3                   COMMERCIAL SHOP                Ghala              39   \n",
       "4           COMMERCIAL OFFICE SPACE              Bausher               2   \n",
       "5  2, 3 & 4-BEDROOM COMPOUND VILLAS               Rusayl           2,3,4   \n",
       "6                  COMMERCIAL SPACE      Shatti Al Qurum            None   \n",
       "7            6+1 BEDROOM TWIN VILLA              Bausher               6   \n",
       "8            5+1 BEDROOM TWIN VILLA             Al Ansab               5   \n",
       "9                     RETAIL SPACES           Al Khuwair            None   \n",
       "\n",
       "      price  size  \n",
       "0    OMR300  None  \n",
       "1    OMR500  None  \n",
       "2  OMR1,500  None  \n",
       "3    OMR370  None  \n",
       "4      OMR4  None  \n",
       "5    OMR650  None  \n",
       "6      OMR6  None  \n",
       "7  OMR1,000  None  \n",
       "8    OMR750  None  \n",
       "9      OMR7  None  "
      ]
     },
     "execution_count": 3,
     "metadata": {},
     "output_type": "execute_result"
    }
   ],
   "source": [
    "import pandas as pd\n",
    "\n",
    "df_hilal = pd.DataFrame(hilal_data)\n",
    "df_hilal.head(10)"
   ]
  },
  {
   "cell_type": "code",
   "execution_count": 4,
   "id": "6e18aa54-841d-4f0c-b127-20b2d78627ce",
   "metadata": {},
   "outputs": [
    {
     "data": {
      "text/plain": [
       "array([None, '+-130', '+-85', '+-300', '+-340', '+-350', '+-400'],\n",
       "      dtype=object)"
      ]
     },
     "execution_count": 4,
     "metadata": {},
     "output_type": "execute_result"
    }
   ],
   "source": [
    "df_hilal['size'].unique()"
   ]
  },
  {
   "cell_type": "code",
   "execution_count": 5,
   "id": "d3193568-034c-4567-8560-dcfdcee3c977",
   "metadata": {},
   "outputs": [
    {
     "name": "stdout",
     "output_type": "stream",
     "text": [
      "Number of null values in 'size': 167\n"
     ]
    }
   ],
   "source": [
    "null_count = df_hilal['size'].isnull().sum()\n",
    "print(\"Number of null values in 'size':\", null_count)"
   ]
  },
  {
   "cell_type": "code",
   "execution_count": 6,
   "id": "26355da1-efd5-46c9-9575-19287a8648fd",
   "metadata": {},
   "outputs": [
    {
     "data": {
      "text/plain": [
       "(173, 5)"
      ]
     },
     "execution_count": 6,
     "metadata": {},
     "output_type": "execute_result"
    }
   ],
   "source": [
    "df_hilal.shape"
   ]
  },
  {
   "cell_type": "code",
   "execution_count": 7,
   "id": "ab084860-8bdf-4591-8cf9-ea693bc3fb93",
   "metadata": {},
   "outputs": [
    {
     "data": {
      "text/plain": [
       "array(['Al Ansab', 'Shatti Al Qurum', 'Madinat Qaboos (MQ)', 'Ghala',\n",
       "       'Bausher', 'Rusayl', 'Al Khuwair', None, 'Azaiba', 'Maabelah',\n",
       "       'Al Ghoubrah', 'Darsait', 'Al Mawaleh', 'Madinat Al llam',\n",
       "       'Muscat Hills', 'The Wave Muscat', 'Qurum', 'Al Hail', 'Al Khoudh',\n",
       "       'Ruwi', 'Salalah', 'MUSCAT BAY', 'Al Mouj', 'Mutrah', 'Al Awabi',\n",
       "       'Seeb', 'Muscat', 'Nizwa'], dtype=object)"
      ]
     },
     "execution_count": 7,
     "metadata": {},
     "output_type": "execute_result"
    }
   ],
   "source": [
    "df_hilal['location'].unique()"
   ]
  },
  {
   "cell_type": "code",
   "execution_count": 8,
   "id": "10b2d1e8-65b1-4ef6-b139-692cbe5a2d59",
   "metadata": {},
   "outputs": [
    {
     "data": {
      "text/plain": [
       "(173, 5)"
      ]
     },
     "execution_count": 8,
     "metadata": {},
     "output_type": "execute_result"
    }
   ],
   "source": [
    "df_hilal.shape"
   ]
  },
  {
   "cell_type": "code",
   "execution_count": 9,
   "id": "d9446afd-8c48-4e33-880a-44bce35471b2",
   "metadata": {},
   "outputs": [
    {
     "name": "stdout",
     "output_type": "stream",
     "text": [
      "Data saved to 'hilal_rent_listings.csv'\n"
     ]
    }
   ],
   "source": [
    "df_hilal.to_csv('hilal_rent_listings.csv', index=False, encoding='utf-8-sig')\n",
    "print(\"Data saved to 'hilal_rent_listings.csv'\")"
   ]
  }
 ],
 "metadata": {
  "kernelspec": {
   "display_name": "Python [conda env:base] *",
   "language": "python",
   "name": "conda-base-py"
  },
  "language_info": {
   "codemirror_mode": {
    "name": "ipython",
    "version": 3
   },
   "file_extension": ".py",
   "mimetype": "text/x-python",
   "name": "python",
   "nbconvert_exporter": "python",
   "pygments_lexer": "ipython3",
   "version": "3.13.5"
  }
 },
 "nbformat": 4,
 "nbformat_minor": 5
}
